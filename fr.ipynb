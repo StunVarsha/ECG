{
 "metadata": {
  "language_info": {
   "codemirror_mode": {
    "name": "ipython",
    "version": 3
   },
   "file_extension": ".py",
   "mimetype": "text/x-python",
   "name": "python",
   "nbconvert_exporter": "python",
   "pygments_lexer": "ipython3",
   "version": "3.9.0"
  },
  "orig_nbformat": 2,
  "kernelspec": {
   "name": "python390jvsc74a57bd02471cdaf8db7a966e7922cbb886a7ed46f4c32e5930b845a9816621b044b7db3",
   "display_name": "Python 3.9.0 64-bit"
  },
  "metadata": {
   "interpreter": {
    "hash": "2471cdaf8db7a966e7922cbb886a7ed46f4c32e5930b845a9816621b044b7db3"
   }
  }
 },
 "nbformat": 4,
 "nbformat_minor": 2,
 "cells": [
  {
   "cell_type": "code",
   "execution_count": 1,
   "metadata": {},
   "outputs": [],
   "source": [
    "import pandas as pd\n",
    "import numpy as np\n",
    "import matplotlib.pyplot as plt\n",
    "from os import listdir"
   ]
  },
  {
   "cell_type": "code",
   "execution_count": 2,
   "metadata": {},
   "outputs": [],
   "source": [
    "data_path = 'mitdb/'"
   ]
  },
  {
   "cell_type": "code",
   "execution_count": 3,
   "metadata": {},
   "outputs": [],
   "source": [
    "# Lists of patients\n",
    "pts = ['100','101','102','103','104','105','106','107',\n",
    "       '108','109','111','112','113','114','115','116',\n",
    "       '117','118','119','121','122','123','124','200',\n",
    "       '201','202','203','205','207','208','209','210',\n",
    "       '212','213','214','215','217','219','220','221',\n",
    "       '222','223','228','230','231','232','233','234']"
   ]
  },
  {
   "cell_type": "code",
   "execution_count": 4,
   "metadata": {},
   "outputs": [],
   "source": [
    "import wfdb"
   ]
  },
  {
   "cell_type": "code",
   "execution_count": 5,
   "metadata": {},
   "outputs": [],
   "source": [
    "df = pd.DataFrame()\n",
    "\n",
    "for pt in pts:\n",
    "    file = data_path + pt\n",
    "    \n",
    "    annotation = wfdb.rdann(file, 'atr')\n",
    "    sym = annotation.symbol\n",
    "    \n",
    "    values, counts = np.unique(sym, return_counts=True)\n",
    "    df_sub = pd.DataFrame({'sym':values, 'val':counts, 'pt':[pt]*len(counts)})\n",
    "    df = pd.concat([df, df_sub],axis = 0)\n",
    "    "
   ]
  },
  {
   "cell_type": "code",
   "execution_count": 6,
   "metadata": {},
   "outputs": [
    {
     "output_type": "execute_result",
     "data": {
      "text/plain": [
       "sym\n",
       "N    75052\n",
       "L     8075\n",
       "R     7259\n",
       "V     7130\n",
       "/     7028\n",
       "A     2546\n",
       "+     1291\n",
       "f      982\n",
       "F      803\n",
       "~      616\n",
       "!      472\n",
       "\"      437\n",
       "j      229\n",
       "x      193\n",
       "a      150\n",
       "|      132\n",
       "E      106\n",
       "J       83\n",
       "Q       33\n",
       "e       16\n",
       "[        6\n",
       "]        6\n",
       "S        2\n",
       "Name: val, dtype: int64"
      ]
     },
     "metadata": {},
     "execution_count": 6
    }
   ],
   "source": [
    "df.groupby('sym').val.sum().sort_values(ascending = False)"
   ]
  },
  {
   "cell_type": "code",
   "execution_count": 7,
   "metadata": {},
   "outputs": [],
   "source": [
    "# list of nonbeat and abnormal\n",
    "nonbeat = ['[','!',']','x','(',')','p','t','u','`',\n",
    "           '\\'','^','|','~','+','s','T','*','D','=','\"','@','Q','?']\n",
    "abnormal = ['L','R','V','/','A','f','F','j','a','E','J','e','S']"
   ]
  },
  {
   "cell_type": "code",
   "execution_count": 8,
   "metadata": {},
   "outputs": [],
   "source": [
    "# break into normal, abnormal or nonbeat\n",
    "df['cat'] = -1\n",
    "df.loc[df.sym == 'N','cat'] = 0\n",
    "df.loc[df.sym.isin(abnormal), 'cat'] = 1"
   ]
  },
  {
   "cell_type": "code",
   "execution_count": 9,
   "metadata": {},
   "outputs": [
    {
     "output_type": "execute_result",
     "data": {
      "text/plain": [
       "cat\n",
       "-1     3186\n",
       " 0    75052\n",
       " 1    34409\n",
       "Name: val, dtype: int64"
      ]
     },
     "metadata": {},
     "execution_count": 9
    }
   ],
   "source": [
    "df.groupby('cat').val.sum()"
   ]
  },
  {
   "cell_type": "code",
   "execution_count": 10,
   "metadata": {},
   "outputs": [],
   "source": [
    "#a function for loading a single patient's signals and annotations\n",
    "def load_ecg(file):\n",
    "    # load the ecg\n",
    "    # example file: 'mit-bih-arrhythmia-database-1.0.0/101'\n",
    "    \n",
    "    # load the ecg\n",
    "    record = wfdb.rdrecord(file)\n",
    "    # load the annotation\n",
    "    annotation = wfdb.rdann(file, 'atr')\n",
    "    \n",
    "    # extract the signal\n",
    "    p_signal = record.p_signal\n",
    "    \n",
    "    # verify frequency is 360\n",
    "    assert record.fs == 360, 'sample freq is not 360'\n",
    "    \n",
    "    # extract symbols and annotation index\n",
    "    atr_sym = annotation.symbol\n",
    "    atr_sample = annotation.sample\n",
    "    \n",
    "    return p_signal, atr_sym, atr_sample"
   ]
  },
  {
   "cell_type": "code",
   "execution_count": 11,
   "metadata": {},
   "outputs": [],
   "source": [
    "file = data_path + pts[0]"
   ]
  },
  {
   "cell_type": "code",
   "execution_count": 12,
   "metadata": {},
   "outputs": [],
   "source": [
    "#Calling a function\n",
    "p_signal, atr_sym, atr_sample = load_ecg(file)\n"
   ]
  },
  {
   "cell_type": "code",
   "execution_count": 13,
   "metadata": {},
   "outputs": [
    {
     "output_type": "stream",
     "name": "stdout",
     "text": [
      "+ 3\nJ 50\nN 2700\nV 3\n~ 8\n"
     ]
    }
   ],
   "source": [
    "\n",
    "values, counts = np.unique(sym, return_counts=True)\n",
    "for v,c in zip(values, counts):\n",
    "    print(v,c)"
   ]
  },
  {
   "cell_type": "code",
   "execution_count": 14,
   "metadata": {},
   "outputs": [
    {
     "output_type": "execute_result",
     "data": {
      "text/plain": [
       "[2044, 66792, 74986, 99579, 128085, 170719, 279576, 305709, 307745, 312825]"
      ]
     },
     "metadata": {},
     "execution_count": 14
    }
   ],
   "source": [
    "# get abnormal beat index\n",
    "ab_index = [b for a,b in zip(atr_sym,atr_sample) if a in abnormal][:10]\n",
    "ab_index"
   ]
  },
  {
   "cell_type": "code",
   "execution_count": 15,
   "metadata": {},
   "outputs": [],
   "source": [
    "x = np.arange(len(p_signal))"
   ]
  },
  {
   "cell_type": "code",
   "execution_count": 16,
   "metadata": {},
   "outputs": [
    {
     "output_type": "display_data",
     "data": {
      "text/plain": "<Figure size 432x288 with 1 Axes>",
      "image/svg+xml": "<?xml version=\"1.0\" encoding=\"utf-8\" standalone=\"no\"?>\r\n<!DOCTYPE svg PUBLIC \"-//W3C//DTD SVG 1.1//EN\"\r\n  \"http://www.w3.org/Graphics/SVG/1.1/DTD/svg11.dtd\">\r\n<!-- Created with matplotlib (https://matplotlib.org/) -->\r\n<svg height=\"262.19625pt\" version=\"1.1\" viewBox=\"0 0 496.068562 262.19625\" width=\"496.068562pt\" xmlns=\"http://www.w3.org/2000/svg\" xmlns:xlink=\"http://www.w3.org/1999/xlink\">\r\n <metadata>\r\n  <rdf:RDF xmlns:cc=\"http://creativecommons.org/ns#\" xmlns:dc=\"http://purl.org/dc/elements/1.1/\" xmlns:rdf=\"http://www.w3.org/1999/02/22-rdf-syntax-ns#\">\r\n   <cc:Work>\r\n    <dc:type rdf:resource=\"http://purl.org/dc/dcmitype/StillImage\"/>\r\n    <dc:date>2021-05-03T19:04:24.619382</dc:date>\r\n    <dc:format>image/svg+xml</dc:format>\r\n    <dc:creator>\r\n     <cc:Agent>\r\n      <dc:title>Matplotlib v3.3.4, https://matplotlib.org/</dc:title>\r\n     </cc:Agent>\r\n    </dc:creator>\r\n   </cc:Work>\r\n  </rdf:RDF>\r\n </metadata>\r\n <defs>\r\n  <style type=\"text/css\">*{stroke-linecap:butt;stroke-linejoin:round;}</style>\r\n </defs>\r\n <g id=\"figure_1\">\r\n  <g id=\"patch_1\">\r\n   <path d=\"M 0 262.19625 \r\nL 496.068562 262.19625 \r\nL 496.068562 0 \r\nL 0 0 \r\nz\r\n\" style=\"fill:none;\"/>\r\n  </g>\r\n  <g id=\"axes_1\">\r\n   <g id=\"patch_2\">\r\n    <path d=\"M 52.160938 224.64 \r\nL 386.960938 224.64 \r\nL 386.960938 7.2 \r\nL 52.160938 7.2 \r\nz\r\n\" style=\"fill:#ffffff;\"/>\r\n   </g>\r\n   <g id=\"matplotlib.axis_1\">\r\n    <g id=\"xtick_1\">\r\n     <g id=\"line2d_1\">\r\n      <defs>\r\n       <path d=\"M 0 0 \r\nL 0 3.5 \r\n\" id=\"m106675d588\" style=\"stroke:#000000;stroke-width:0.8;\"/>\r\n      </defs>\r\n      <g>\r\n       <use style=\"stroke:#000000;stroke-width:0.8;\" x=\"58.050938\" xlink:href=\"#m106675d588\" y=\"224.64\"/>\r\n      </g>\r\n     </g>\r\n     <g id=\"text_1\">\r\n      <!-- 65750 -->\r\n      <g transform=\"translate(42.144688 239.238437)scale(0.1 -0.1)\">\r\n       <defs>\r\n        <path d=\"M 33.015625 40.375 \r\nQ 26.375 40.375 22.484375 35.828125 \r\nQ 18.609375 31.296875 18.609375 23.390625 \r\nQ 18.609375 15.53125 22.484375 10.953125 \r\nQ 26.375 6.390625 33.015625 6.390625 \r\nQ 39.65625 6.390625 43.53125 10.953125 \r\nQ 47.40625 15.53125 47.40625 23.390625 \r\nQ 47.40625 31.296875 43.53125 35.828125 \r\nQ 39.65625 40.375 33.015625 40.375 \r\nz\r\nM 52.59375 71.296875 \r\nL 52.59375 62.3125 \r\nQ 48.875 64.0625 45.09375 64.984375 \r\nQ 41.3125 65.921875 37.59375 65.921875 \r\nQ 27.828125 65.921875 22.671875 59.328125 \r\nQ 17.53125 52.734375 16.796875 39.40625 \r\nQ 19.671875 43.65625 24.015625 45.921875 \r\nQ 28.375 48.1875 33.59375 48.1875 \r\nQ 44.578125 48.1875 50.953125 41.515625 \r\nQ 57.328125 34.859375 57.328125 23.390625 \r\nQ 57.328125 12.15625 50.6875 5.359375 \r\nQ 44.046875 -1.421875 33.015625 -1.421875 \r\nQ 20.359375 -1.421875 13.671875 8.265625 \r\nQ 6.984375 17.96875 6.984375 36.375 \r\nQ 6.984375 53.65625 15.1875 63.9375 \r\nQ 23.390625 74.21875 37.203125 74.21875 \r\nQ 40.921875 74.21875 44.703125 73.484375 \r\nQ 48.484375 72.75 52.59375 71.296875 \r\nz\r\n\" id=\"DejaVuSans-54\"/>\r\n        <path d=\"M 10.796875 72.90625 \r\nL 49.515625 72.90625 \r\nL 49.515625 64.59375 \r\nL 19.828125 64.59375 \r\nL 19.828125 46.734375 \r\nQ 21.96875 47.46875 24.109375 47.828125 \r\nQ 26.265625 48.1875 28.421875 48.1875 \r\nQ 40.625 48.1875 47.75 41.5 \r\nQ 54.890625 34.8125 54.890625 23.390625 \r\nQ 54.890625 11.625 47.5625 5.09375 \r\nQ 40.234375 -1.421875 26.90625 -1.421875 \r\nQ 22.3125 -1.421875 17.546875 -0.640625 \r\nQ 12.796875 0.140625 7.71875 1.703125 \r\nL 7.71875 11.625 \r\nQ 12.109375 9.234375 16.796875 8.0625 \r\nQ 21.484375 6.890625 26.703125 6.890625 \r\nQ 35.15625 6.890625 40.078125 11.328125 \r\nQ 45.015625 15.765625 45.015625 23.390625 \r\nQ 45.015625 31 40.078125 35.4375 \r\nQ 35.15625 39.890625 26.703125 39.890625 \r\nQ 22.75 39.890625 18.8125 39.015625 \r\nQ 14.890625 38.140625 10.796875 36.28125 \r\nz\r\n\" id=\"DejaVuSans-53\"/>\r\n        <path d=\"M 8.203125 72.90625 \r\nL 55.078125 72.90625 \r\nL 55.078125 68.703125 \r\nL 28.609375 0 \r\nL 18.3125 0 \r\nL 43.21875 64.59375 \r\nL 8.203125 64.59375 \r\nz\r\n\" id=\"DejaVuSans-55\"/>\r\n        <path d=\"M 31.78125 66.40625 \r\nQ 24.171875 66.40625 20.328125 58.90625 \r\nQ 16.5 51.421875 16.5 36.375 \r\nQ 16.5 21.390625 20.328125 13.890625 \r\nQ 24.171875 6.390625 31.78125 6.390625 \r\nQ 39.453125 6.390625 43.28125 13.890625 \r\nQ 47.125 21.390625 47.125 36.375 \r\nQ 47.125 51.421875 43.28125 58.90625 \r\nQ 39.453125 66.40625 31.78125 66.40625 \r\nz\r\nM 31.78125 74.21875 \r\nQ 44.046875 74.21875 50.515625 64.515625 \r\nQ 56.984375 54.828125 56.984375 36.375 \r\nQ 56.984375 17.96875 50.515625 8.265625 \r\nQ 44.046875 -1.421875 31.78125 -1.421875 \r\nQ 19.53125 -1.421875 13.0625 8.265625 \r\nQ 6.59375 17.96875 6.59375 36.375 \r\nQ 6.59375 54.828125 13.0625 64.515625 \r\nQ 19.53125 74.21875 31.78125 74.21875 \r\nz\r\n\" id=\"DejaVuSans-48\"/>\r\n       </defs>\r\n       <use xlink:href=\"#DejaVuSans-54\"/>\r\n       <use x=\"63.623047\" xlink:href=\"#DejaVuSans-53\"/>\r\n       <use x=\"127.246094\" xlink:href=\"#DejaVuSans-55\"/>\r\n       <use x=\"190.869141\" xlink:href=\"#DejaVuSans-53\"/>\r\n       <use x=\"254.492188\" xlink:href=\"#DejaVuSans-48\"/>\r\n      </g>\r\n     </g>\r\n    </g>\r\n    <g id=\"xtick_2\">\r\n     <g id=\"line2d_2\">\r\n      <g>\r\n       <use style=\"stroke:#000000;stroke-width:0.8;\" x=\"96.800938\" xlink:href=\"#m106675d588\" y=\"224.64\"/>\r\n      </g>\r\n     </g>\r\n     <g id=\"text_2\">\r\n      <!-- 66000 -->\r\n      <g transform=\"translate(80.894688 239.238437)scale(0.1 -0.1)\">\r\n       <use xlink:href=\"#DejaVuSans-54\"/>\r\n       <use x=\"63.623047\" xlink:href=\"#DejaVuSans-54\"/>\r\n       <use x=\"127.246094\" xlink:href=\"#DejaVuSans-48\"/>\r\n       <use x=\"190.869141\" xlink:href=\"#DejaVuSans-48\"/>\r\n       <use x=\"254.492188\" xlink:href=\"#DejaVuSans-48\"/>\r\n      </g>\r\n     </g>\r\n    </g>\r\n    <g id=\"xtick_3\">\r\n     <g id=\"line2d_3\">\r\n      <g>\r\n       <use style=\"stroke:#000000;stroke-width:0.8;\" x=\"135.550938\" xlink:href=\"#m106675d588\" y=\"224.64\"/>\r\n      </g>\r\n     </g>\r\n     <g id=\"text_3\">\r\n      <!-- 66250 -->\r\n      <g transform=\"translate(119.644688 239.238437)scale(0.1 -0.1)\">\r\n       <defs>\r\n        <path d=\"M 19.1875 8.296875 \r\nL 53.609375 8.296875 \r\nL 53.609375 0 \r\nL 7.328125 0 \r\nL 7.328125 8.296875 \r\nQ 12.9375 14.109375 22.625 23.890625 \r\nQ 32.328125 33.6875 34.8125 36.53125 \r\nQ 39.546875 41.84375 41.421875 45.53125 \r\nQ 43.3125 49.21875 43.3125 52.78125 \r\nQ 43.3125 58.59375 39.234375 62.25 \r\nQ 35.15625 65.921875 28.609375 65.921875 \r\nQ 23.96875 65.921875 18.8125 64.3125 \r\nQ 13.671875 62.703125 7.8125 59.421875 \r\nL 7.8125 69.390625 \r\nQ 13.765625 71.78125 18.9375 73 \r\nQ 24.125 74.21875 28.421875 74.21875 \r\nQ 39.75 74.21875 46.484375 68.546875 \r\nQ 53.21875 62.890625 53.21875 53.421875 \r\nQ 53.21875 48.921875 51.53125 44.890625 \r\nQ 49.859375 40.875 45.40625 35.40625 \r\nQ 44.1875 33.984375 37.640625 27.21875 \r\nQ 31.109375 20.453125 19.1875 8.296875 \r\nz\r\n\" id=\"DejaVuSans-50\"/>\r\n       </defs>\r\n       <use xlink:href=\"#DejaVuSans-54\"/>\r\n       <use x=\"63.623047\" xlink:href=\"#DejaVuSans-54\"/>\r\n       <use x=\"127.246094\" xlink:href=\"#DejaVuSans-50\"/>\r\n       <use x=\"190.869141\" xlink:href=\"#DejaVuSans-53\"/>\r\n       <use x=\"254.492188\" xlink:href=\"#DejaVuSans-48\"/>\r\n      </g>\r\n     </g>\r\n    </g>\r\n    <g id=\"xtick_4\">\r\n     <g id=\"line2d_4\">\r\n      <g>\r\n       <use style=\"stroke:#000000;stroke-width:0.8;\" x=\"174.300938\" xlink:href=\"#m106675d588\" y=\"224.64\"/>\r\n      </g>\r\n     </g>\r\n     <g id=\"text_4\">\r\n      <!-- 66500 -->\r\n      <g transform=\"translate(158.394688 239.238437)scale(0.1 -0.1)\">\r\n       <use xlink:href=\"#DejaVuSans-54\"/>\r\n       <use x=\"63.623047\" xlink:href=\"#DejaVuSans-54\"/>\r\n       <use x=\"127.246094\" xlink:href=\"#DejaVuSans-53\"/>\r\n       <use x=\"190.869141\" xlink:href=\"#DejaVuSans-48\"/>\r\n       <use x=\"254.492188\" xlink:href=\"#DejaVuSans-48\"/>\r\n      </g>\r\n     </g>\r\n    </g>\r\n    <g id=\"xtick_5\">\r\n     <g id=\"line2d_5\">\r\n      <g>\r\n       <use style=\"stroke:#000000;stroke-width:0.8;\" x=\"213.050938\" xlink:href=\"#m106675d588\" y=\"224.64\"/>\r\n      </g>\r\n     </g>\r\n     <g id=\"text_5\">\r\n      <!-- 66750 -->\r\n      <g transform=\"translate(197.144688 239.238437)scale(0.1 -0.1)\">\r\n       <use xlink:href=\"#DejaVuSans-54\"/>\r\n       <use x=\"63.623047\" xlink:href=\"#DejaVuSans-54\"/>\r\n       <use x=\"127.246094\" xlink:href=\"#DejaVuSans-55\"/>\r\n       <use x=\"190.869141\" xlink:href=\"#DejaVuSans-53\"/>\r\n       <use x=\"254.492188\" xlink:href=\"#DejaVuSans-48\"/>\r\n      </g>\r\n     </g>\r\n    </g>\r\n    <g id=\"xtick_6\">\r\n     <g id=\"line2d_6\">\r\n      <g>\r\n       <use style=\"stroke:#000000;stroke-width:0.8;\" x=\"251.800938\" xlink:href=\"#m106675d588\" y=\"224.64\"/>\r\n      </g>\r\n     </g>\r\n     <g id=\"text_6\">\r\n      <!-- 67000 -->\r\n      <g transform=\"translate(235.894688 239.238437)scale(0.1 -0.1)\">\r\n       <use xlink:href=\"#DejaVuSans-54\"/>\r\n       <use x=\"63.623047\" xlink:href=\"#DejaVuSans-55\"/>\r\n       <use x=\"127.246094\" xlink:href=\"#DejaVuSans-48\"/>\r\n       <use x=\"190.869141\" xlink:href=\"#DejaVuSans-48\"/>\r\n       <use x=\"254.492188\" xlink:href=\"#DejaVuSans-48\"/>\r\n      </g>\r\n     </g>\r\n    </g>\r\n    <g id=\"xtick_7\">\r\n     <g id=\"line2d_7\">\r\n      <g>\r\n       <use style=\"stroke:#000000;stroke-width:0.8;\" x=\"290.550938\" xlink:href=\"#m106675d588\" y=\"224.64\"/>\r\n      </g>\r\n     </g>\r\n     <g id=\"text_7\">\r\n      <!-- 67250 -->\r\n      <g transform=\"translate(274.644688 239.238437)scale(0.1 -0.1)\">\r\n       <use xlink:href=\"#DejaVuSans-54\"/>\r\n       <use x=\"63.623047\" xlink:href=\"#DejaVuSans-55\"/>\r\n       <use x=\"127.246094\" xlink:href=\"#DejaVuSans-50\"/>\r\n       <use x=\"190.869141\" xlink:href=\"#DejaVuSans-53\"/>\r\n       <use x=\"254.492188\" xlink:href=\"#DejaVuSans-48\"/>\r\n      </g>\r\n     </g>\r\n    </g>\r\n    <g id=\"xtick_8\">\r\n     <g id=\"line2d_8\">\r\n      <g>\r\n       <use style=\"stroke:#000000;stroke-width:0.8;\" x=\"329.300938\" xlink:href=\"#m106675d588\" y=\"224.64\"/>\r\n      </g>\r\n     </g>\r\n     <g id=\"text_8\">\r\n      <!-- 67500 -->\r\n      <g transform=\"translate(313.394688 239.238437)scale(0.1 -0.1)\">\r\n       <use xlink:href=\"#DejaVuSans-54\"/>\r\n       <use x=\"63.623047\" xlink:href=\"#DejaVuSans-55\"/>\r\n       <use x=\"127.246094\" xlink:href=\"#DejaVuSans-53\"/>\r\n       <use x=\"190.869141\" xlink:href=\"#DejaVuSans-48\"/>\r\n       <use x=\"254.492188\" xlink:href=\"#DejaVuSans-48\"/>\r\n      </g>\r\n     </g>\r\n    </g>\r\n    <g id=\"xtick_9\">\r\n     <g id=\"line2d_9\">\r\n      <g>\r\n       <use style=\"stroke:#000000;stroke-width:0.8;\" x=\"368.050938\" xlink:href=\"#m106675d588\" y=\"224.64\"/>\r\n      </g>\r\n     </g>\r\n     <g id=\"text_9\">\r\n      <!-- 67750 -->\r\n      <g transform=\"translate(352.144688 239.238437)scale(0.1 -0.1)\">\r\n       <use xlink:href=\"#DejaVuSans-54\"/>\r\n       <use x=\"63.623047\" xlink:href=\"#DejaVuSans-55\"/>\r\n       <use x=\"127.246094\" xlink:href=\"#DejaVuSans-55\"/>\r\n       <use x=\"190.869141\" xlink:href=\"#DejaVuSans-53\"/>\r\n       <use x=\"254.492188\" xlink:href=\"#DejaVuSans-48\"/>\r\n      </g>\r\n     </g>\r\n    </g>\r\n    <g id=\"text_10\">\r\n     <!-- time index -->\r\n     <g transform=\"translate(192.995313 252.916562)scale(0.1 -0.1)\">\r\n      <defs>\r\n       <path d=\"M 18.3125 70.21875 \r\nL 18.3125 54.6875 \r\nL 36.8125 54.6875 \r\nL 36.8125 47.703125 \r\nL 18.3125 47.703125 \r\nL 18.3125 18.015625 \r\nQ 18.3125 11.328125 20.140625 9.421875 \r\nQ 21.96875 7.515625 27.59375 7.515625 \r\nL 36.8125 7.515625 \r\nL 36.8125 0 \r\nL 27.59375 0 \r\nQ 17.1875 0 13.234375 3.875 \r\nQ 9.28125 7.765625 9.28125 18.015625 \r\nL 9.28125 47.703125 \r\nL 2.6875 47.703125 \r\nL 2.6875 54.6875 \r\nL 9.28125 54.6875 \r\nL 9.28125 70.21875 \r\nz\r\n\" id=\"DejaVuSans-116\"/>\r\n       <path d=\"M 9.421875 54.6875 \r\nL 18.40625 54.6875 \r\nL 18.40625 0 \r\nL 9.421875 0 \r\nz\r\nM 9.421875 75.984375 \r\nL 18.40625 75.984375 \r\nL 18.40625 64.59375 \r\nL 9.421875 64.59375 \r\nz\r\n\" id=\"DejaVuSans-105\"/>\r\n       <path d=\"M 52 44.1875 \r\nQ 55.375 50.25 60.0625 53.125 \r\nQ 64.75 56 71.09375 56 \r\nQ 79.640625 56 84.28125 50.015625 \r\nQ 88.921875 44.046875 88.921875 33.015625 \r\nL 88.921875 0 \r\nL 79.890625 0 \r\nL 79.890625 32.71875 \r\nQ 79.890625 40.578125 77.09375 44.375 \r\nQ 74.3125 48.1875 68.609375 48.1875 \r\nQ 61.625 48.1875 57.5625 43.546875 \r\nQ 53.515625 38.921875 53.515625 30.90625 \r\nL 53.515625 0 \r\nL 44.484375 0 \r\nL 44.484375 32.71875 \r\nQ 44.484375 40.625 41.703125 44.40625 \r\nQ 38.921875 48.1875 33.109375 48.1875 \r\nQ 26.21875 48.1875 22.15625 43.53125 \r\nQ 18.109375 38.875 18.109375 30.90625 \r\nL 18.109375 0 \r\nL 9.078125 0 \r\nL 9.078125 54.6875 \r\nL 18.109375 54.6875 \r\nL 18.109375 46.1875 \r\nQ 21.1875 51.21875 25.484375 53.609375 \r\nQ 29.78125 56 35.6875 56 \r\nQ 41.65625 56 45.828125 52.96875 \r\nQ 50 49.953125 52 44.1875 \r\nz\r\n\" id=\"DejaVuSans-109\"/>\r\n       <path d=\"M 56.203125 29.59375 \r\nL 56.203125 25.203125 \r\nL 14.890625 25.203125 \r\nQ 15.484375 15.921875 20.484375 11.0625 \r\nQ 25.484375 6.203125 34.421875 6.203125 \r\nQ 39.59375 6.203125 44.453125 7.46875 \r\nQ 49.3125 8.734375 54.109375 11.28125 \r\nL 54.109375 2.78125 \r\nQ 49.265625 0.734375 44.1875 -0.34375 \r\nQ 39.109375 -1.421875 33.890625 -1.421875 \r\nQ 20.796875 -1.421875 13.15625 6.1875 \r\nQ 5.515625 13.8125 5.515625 26.8125 \r\nQ 5.515625 40.234375 12.765625 48.109375 \r\nQ 20.015625 56 32.328125 56 \r\nQ 43.359375 56 49.78125 48.890625 \r\nQ 56.203125 41.796875 56.203125 29.59375 \r\nz\r\nM 47.21875 32.234375 \r\nQ 47.125 39.59375 43.09375 43.984375 \r\nQ 39.0625 48.390625 32.421875 48.390625 \r\nQ 24.90625 48.390625 20.390625 44.140625 \r\nQ 15.875 39.890625 15.1875 32.171875 \r\nz\r\n\" id=\"DejaVuSans-101\"/>\r\n       <path id=\"DejaVuSans-32\"/>\r\n       <path d=\"M 54.890625 33.015625 \r\nL 54.890625 0 \r\nL 45.90625 0 \r\nL 45.90625 32.71875 \r\nQ 45.90625 40.484375 42.875 44.328125 \r\nQ 39.84375 48.1875 33.796875 48.1875 \r\nQ 26.515625 48.1875 22.3125 43.546875 \r\nQ 18.109375 38.921875 18.109375 30.90625 \r\nL 18.109375 0 \r\nL 9.078125 0 \r\nL 9.078125 54.6875 \r\nL 18.109375 54.6875 \r\nL 18.109375 46.1875 \r\nQ 21.34375 51.125 25.703125 53.5625 \r\nQ 30.078125 56 35.796875 56 \r\nQ 45.21875 56 50.046875 50.171875 \r\nQ 54.890625 44.34375 54.890625 33.015625 \r\nz\r\n\" id=\"DejaVuSans-110\"/>\r\n       <path d=\"M 45.40625 46.390625 \r\nL 45.40625 75.984375 \r\nL 54.390625 75.984375 \r\nL 54.390625 0 \r\nL 45.40625 0 \r\nL 45.40625 8.203125 \r\nQ 42.578125 3.328125 38.25 0.953125 \r\nQ 33.9375 -1.421875 27.875 -1.421875 \r\nQ 17.96875 -1.421875 11.734375 6.484375 \r\nQ 5.515625 14.40625 5.515625 27.296875 \r\nQ 5.515625 40.1875 11.734375 48.09375 \r\nQ 17.96875 56 27.875 56 \r\nQ 33.9375 56 38.25 53.625 \r\nQ 42.578125 51.265625 45.40625 46.390625 \r\nz\r\nM 14.796875 27.296875 \r\nQ 14.796875 17.390625 18.875 11.75 \r\nQ 22.953125 6.109375 30.078125 6.109375 \r\nQ 37.203125 6.109375 41.296875 11.75 \r\nQ 45.40625 17.390625 45.40625 27.296875 \r\nQ 45.40625 37.203125 41.296875 42.84375 \r\nQ 37.203125 48.484375 30.078125 48.484375 \r\nQ 22.953125 48.484375 18.875 42.84375 \r\nQ 14.796875 37.203125 14.796875 27.296875 \r\nz\r\n\" id=\"DejaVuSans-100\"/>\r\n       <path d=\"M 54.890625 54.6875 \r\nL 35.109375 28.078125 \r\nL 55.90625 0 \r\nL 45.3125 0 \r\nL 29.390625 21.484375 \r\nL 13.484375 0 \r\nL 2.875 0 \r\nL 24.125 28.609375 \r\nL 4.6875 54.6875 \r\nL 15.28125 54.6875 \r\nL 29.78125 35.203125 \r\nL 44.28125 54.6875 \r\nz\r\n\" id=\"DejaVuSans-120\"/>\r\n      </defs>\r\n      <use xlink:href=\"#DejaVuSans-116\"/>\r\n      <use x=\"39.208984\" xlink:href=\"#DejaVuSans-105\"/>\r\n      <use x=\"66.992188\" xlink:href=\"#DejaVuSans-109\"/>\r\n      <use x=\"164.404297\" xlink:href=\"#DejaVuSans-101\"/>\r\n      <use x=\"225.927734\" xlink:href=\"#DejaVuSans-32\"/>\r\n      <use x=\"257.714844\" xlink:href=\"#DejaVuSans-105\"/>\r\n      <use x=\"285.498047\" xlink:href=\"#DejaVuSans-110\"/>\r\n      <use x=\"348.876953\" xlink:href=\"#DejaVuSans-100\"/>\r\n      <use x=\"412.353516\" xlink:href=\"#DejaVuSans-101\"/>\r\n      <use x=\"472.126953\" xlink:href=\"#DejaVuSans-120\"/>\r\n     </g>\r\n    </g>\r\n   </g>\r\n   <g id=\"matplotlib.axis_2\">\r\n    <g id=\"ytick_1\">\r\n     <g id=\"line2d_10\">\r\n      <defs>\r\n       <path d=\"M 0 0 \r\nL -3.5 0 \r\n\" id=\"me0ad16ee8e\" style=\"stroke:#000000;stroke-width:0.8;\"/>\r\n      </defs>\r\n      <g>\r\n       <use style=\"stroke:#000000;stroke-width:0.8;\" x=\"52.160938\" xlink:href=\"#me0ad16ee8e\" y=\"212.936431\"/>\r\n      </g>\r\n     </g>\r\n     <g id=\"text_11\">\r\n      <!-- −0.6 -->\r\n      <g transform=\"translate(20.878125 216.735649)scale(0.1 -0.1)\">\r\n       <defs>\r\n        <path d=\"M 10.59375 35.5 \r\nL 73.1875 35.5 \r\nL 73.1875 27.203125 \r\nL 10.59375 27.203125 \r\nz\r\n\" id=\"DejaVuSans-8722\"/>\r\n        <path d=\"M 10.6875 12.40625 \r\nL 21 12.40625 \r\nL 21 0 \r\nL 10.6875 0 \r\nz\r\n\" id=\"DejaVuSans-46\"/>\r\n       </defs>\r\n       <use xlink:href=\"#DejaVuSans-8722\"/>\r\n       <use x=\"83.789062\" xlink:href=\"#DejaVuSans-48\"/>\r\n       <use x=\"147.412109\" xlink:href=\"#DejaVuSans-46\"/>\r\n       <use x=\"179.199219\" xlink:href=\"#DejaVuSans-54\"/>\r\n      </g>\r\n     </g>\r\n    </g>\r\n    <g id=\"ytick_2\">\r\n     <g id=\"line2d_11\">\r\n      <g>\r\n       <use style=\"stroke:#000000;stroke-width:0.8;\" x=\"52.160938\" xlink:href=\"#me0ad16ee8e\" y=\"188.297337\"/>\r\n      </g>\r\n     </g>\r\n     <g id=\"text_12\">\r\n      <!-- −0.4 -->\r\n      <g transform=\"translate(20.878125 192.096556)scale(0.1 -0.1)\">\r\n       <defs>\r\n        <path d=\"M 37.796875 64.3125 \r\nL 12.890625 25.390625 \r\nL 37.796875 25.390625 \r\nz\r\nM 35.203125 72.90625 \r\nL 47.609375 72.90625 \r\nL 47.609375 25.390625 \r\nL 58.015625 25.390625 \r\nL 58.015625 17.1875 \r\nL 47.609375 17.1875 \r\nL 47.609375 0 \r\nL 37.796875 0 \r\nL 37.796875 17.1875 \r\nL 4.890625 17.1875 \r\nL 4.890625 26.703125 \r\nz\r\n\" id=\"DejaVuSans-52\"/>\r\n       </defs>\r\n       <use xlink:href=\"#DejaVuSans-8722\"/>\r\n       <use x=\"83.789062\" xlink:href=\"#DejaVuSans-48\"/>\r\n       <use x=\"147.412109\" xlink:href=\"#DejaVuSans-46\"/>\r\n       <use x=\"179.199219\" xlink:href=\"#DejaVuSans-52\"/>\r\n      </g>\r\n     </g>\r\n    </g>\r\n    <g id=\"ytick_3\">\r\n     <g id=\"line2d_12\">\r\n      <g>\r\n       <use style=\"stroke:#000000;stroke-width:0.8;\" x=\"52.160938\" xlink:href=\"#me0ad16ee8e\" y=\"163.658244\"/>\r\n      </g>\r\n     </g>\r\n     <g id=\"text_13\">\r\n      <!-- −0.2 -->\r\n      <g transform=\"translate(20.878125 167.457462)scale(0.1 -0.1)\">\r\n       <use xlink:href=\"#DejaVuSans-8722\"/>\r\n       <use x=\"83.789062\" xlink:href=\"#DejaVuSans-48\"/>\r\n       <use x=\"147.412109\" xlink:href=\"#DejaVuSans-46\"/>\r\n       <use x=\"179.199219\" xlink:href=\"#DejaVuSans-50\"/>\r\n      </g>\r\n     </g>\r\n    </g>\r\n    <g id=\"ytick_4\">\r\n     <g id=\"line2d_13\">\r\n      <g>\r\n       <use style=\"stroke:#000000;stroke-width:0.8;\" x=\"52.160938\" xlink:href=\"#me0ad16ee8e\" y=\"139.01915\"/>\r\n      </g>\r\n     </g>\r\n     <g id=\"text_14\">\r\n      <!-- 0.0 -->\r\n      <g transform=\"translate(29.257812 142.818369)scale(0.1 -0.1)\">\r\n       <use xlink:href=\"#DejaVuSans-48\"/>\r\n       <use x=\"63.623047\" xlink:href=\"#DejaVuSans-46\"/>\r\n       <use x=\"95.410156\" xlink:href=\"#DejaVuSans-48\"/>\r\n      </g>\r\n     </g>\r\n    </g>\r\n    <g id=\"ytick_5\">\r\n     <g id=\"line2d_14\">\r\n      <g>\r\n       <use style=\"stroke:#000000;stroke-width:0.8;\" x=\"52.160938\" xlink:href=\"#me0ad16ee8e\" y=\"114.380057\"/>\r\n      </g>\r\n     </g>\r\n     <g id=\"text_15\">\r\n      <!-- 0.2 -->\r\n      <g transform=\"translate(29.257812 118.179275)scale(0.1 -0.1)\">\r\n       <use xlink:href=\"#DejaVuSans-48\"/>\r\n       <use x=\"63.623047\" xlink:href=\"#DejaVuSans-46\"/>\r\n       <use x=\"95.410156\" xlink:href=\"#DejaVuSans-50\"/>\r\n      </g>\r\n     </g>\r\n    </g>\r\n    <g id=\"ytick_6\">\r\n     <g id=\"line2d_15\">\r\n      <g>\r\n       <use style=\"stroke:#000000;stroke-width:0.8;\" x=\"52.160938\" xlink:href=\"#me0ad16ee8e\" y=\"89.740963\"/>\r\n      </g>\r\n     </g>\r\n     <g id=\"text_16\">\r\n      <!-- 0.4 -->\r\n      <g transform=\"translate(29.257812 93.540182)scale(0.1 -0.1)\">\r\n       <use xlink:href=\"#DejaVuSans-48\"/>\r\n       <use x=\"63.623047\" xlink:href=\"#DejaVuSans-46\"/>\r\n       <use x=\"95.410156\" xlink:href=\"#DejaVuSans-52\"/>\r\n      </g>\r\n     </g>\r\n    </g>\r\n    <g id=\"ytick_7\">\r\n     <g id=\"line2d_16\">\r\n      <g>\r\n       <use style=\"stroke:#000000;stroke-width:0.8;\" x=\"52.160938\" xlink:href=\"#me0ad16ee8e\" y=\"65.10187\"/>\r\n      </g>\r\n     </g>\r\n     <g id=\"text_17\">\r\n      <!-- 0.6 -->\r\n      <g transform=\"translate(29.257812 68.901088)scale(0.1 -0.1)\">\r\n       <use xlink:href=\"#DejaVuSans-48\"/>\r\n       <use x=\"63.623047\" xlink:href=\"#DejaVuSans-46\"/>\r\n       <use x=\"95.410156\" xlink:href=\"#DejaVuSans-54\"/>\r\n      </g>\r\n     </g>\r\n    </g>\r\n    <g id=\"ytick_8\">\r\n     <g id=\"line2d_17\">\r\n      <g>\r\n       <use style=\"stroke:#000000;stroke-width:0.8;\" x=\"52.160938\" xlink:href=\"#me0ad16ee8e\" y=\"40.462776\"/>\r\n      </g>\r\n     </g>\r\n     <g id=\"text_18\">\r\n      <!-- 0.8 -->\r\n      <g transform=\"translate(29.257812 44.261995)scale(0.1 -0.1)\">\r\n       <defs>\r\n        <path d=\"M 31.78125 34.625 \r\nQ 24.75 34.625 20.71875 30.859375 \r\nQ 16.703125 27.09375 16.703125 20.515625 \r\nQ 16.703125 13.921875 20.71875 10.15625 \r\nQ 24.75 6.390625 31.78125 6.390625 \r\nQ 38.8125 6.390625 42.859375 10.171875 \r\nQ 46.921875 13.96875 46.921875 20.515625 \r\nQ 46.921875 27.09375 42.890625 30.859375 \r\nQ 38.875 34.625 31.78125 34.625 \r\nz\r\nM 21.921875 38.8125 \r\nQ 15.578125 40.375 12.03125 44.71875 \r\nQ 8.5 49.078125 8.5 55.328125 \r\nQ 8.5 64.0625 14.71875 69.140625 \r\nQ 20.953125 74.21875 31.78125 74.21875 \r\nQ 42.671875 74.21875 48.875 69.140625 \r\nQ 55.078125 64.0625 55.078125 55.328125 \r\nQ 55.078125 49.078125 51.53125 44.71875 \r\nQ 48 40.375 41.703125 38.8125 \r\nQ 48.828125 37.15625 52.796875 32.3125 \r\nQ 56.78125 27.484375 56.78125 20.515625 \r\nQ 56.78125 9.90625 50.3125 4.234375 \r\nQ 43.84375 -1.421875 31.78125 -1.421875 \r\nQ 19.734375 -1.421875 13.25 4.234375 \r\nQ 6.78125 9.90625 6.78125 20.515625 \r\nQ 6.78125 27.484375 10.78125 32.3125 \r\nQ 14.796875 37.15625 21.921875 38.8125 \r\nz\r\nM 18.3125 54.390625 \r\nQ 18.3125 48.734375 21.84375 45.5625 \r\nQ 25.390625 42.390625 31.78125 42.390625 \r\nQ 38.140625 42.390625 41.71875 45.5625 \r\nQ 45.3125 48.734375 45.3125 54.390625 \r\nQ 45.3125 60.0625 41.71875 63.234375 \r\nQ 38.140625 66.40625 31.78125 66.40625 \r\nQ 25.390625 66.40625 21.84375 63.234375 \r\nQ 18.3125 60.0625 18.3125 54.390625 \r\nz\r\n\" id=\"DejaVuSans-56\"/>\r\n       </defs>\r\n       <use xlink:href=\"#DejaVuSans-48\"/>\r\n       <use x=\"63.623047\" xlink:href=\"#DejaVuSans-46\"/>\r\n       <use x=\"95.410156\" xlink:href=\"#DejaVuSans-56\"/>\r\n      </g>\r\n     </g>\r\n    </g>\r\n    <g id=\"ytick_9\">\r\n     <g id=\"line2d_18\">\r\n      <g>\r\n       <use style=\"stroke:#000000;stroke-width:0.8;\" x=\"52.160938\" xlink:href=\"#me0ad16ee8e\" y=\"15.823683\"/>\r\n      </g>\r\n     </g>\r\n     <g id=\"text_19\">\r\n      <!-- 1.0 -->\r\n      <g transform=\"translate(29.257812 19.622901)scale(0.1 -0.1)\">\r\n       <defs>\r\n        <path d=\"M 12.40625 8.296875 \r\nL 28.515625 8.296875 \r\nL 28.515625 63.921875 \r\nL 10.984375 60.40625 \r\nL 10.984375 69.390625 \r\nL 28.421875 72.90625 \r\nL 38.28125 72.90625 \r\nL 38.28125 8.296875 \r\nL 54.390625 8.296875 \r\nL 54.390625 0 \r\nL 12.40625 0 \r\nz\r\n\" id=\"DejaVuSans-49\"/>\r\n       </defs>\r\n       <use xlink:href=\"#DejaVuSans-49\"/>\r\n       <use x=\"63.623047\" xlink:href=\"#DejaVuSans-46\"/>\r\n       <use x=\"95.410156\" xlink:href=\"#DejaVuSans-48\"/>\r\n      </g>\r\n     </g>\r\n    </g>\r\n    <g id=\"text_20\">\r\n     <!-- ECG signal -->\r\n     <g transform=\"translate(14.798437 142.823906)rotate(-90)scale(0.1 -0.1)\">\r\n      <defs>\r\n       <path d=\"M 9.8125 72.90625 \r\nL 55.90625 72.90625 \r\nL 55.90625 64.59375 \r\nL 19.671875 64.59375 \r\nL 19.671875 43.015625 \r\nL 54.390625 43.015625 \r\nL 54.390625 34.71875 \r\nL 19.671875 34.71875 \r\nL 19.671875 8.296875 \r\nL 56.78125 8.296875 \r\nL 56.78125 0 \r\nL 9.8125 0 \r\nz\r\n\" id=\"DejaVuSans-69\"/>\r\n       <path d=\"M 64.40625 67.28125 \r\nL 64.40625 56.890625 \r\nQ 59.421875 61.53125 53.78125 63.8125 \r\nQ 48.140625 66.109375 41.796875 66.109375 \r\nQ 29.296875 66.109375 22.65625 58.46875 \r\nQ 16.015625 50.828125 16.015625 36.375 \r\nQ 16.015625 21.96875 22.65625 14.328125 \r\nQ 29.296875 6.6875 41.796875 6.6875 \r\nQ 48.140625 6.6875 53.78125 8.984375 \r\nQ 59.421875 11.28125 64.40625 15.921875 \r\nL 64.40625 5.609375 \r\nQ 59.234375 2.09375 53.4375 0.328125 \r\nQ 47.65625 -1.421875 41.21875 -1.421875 \r\nQ 24.65625 -1.421875 15.125 8.703125 \r\nQ 5.609375 18.84375 5.609375 36.375 \r\nQ 5.609375 53.953125 15.125 64.078125 \r\nQ 24.65625 74.21875 41.21875 74.21875 \r\nQ 47.75 74.21875 53.53125 72.484375 \r\nQ 59.328125 70.75 64.40625 67.28125 \r\nz\r\n\" id=\"DejaVuSans-67\"/>\r\n       <path d=\"M 59.515625 10.40625 \r\nL 59.515625 29.984375 \r\nL 43.40625 29.984375 \r\nL 43.40625 38.09375 \r\nL 69.28125 38.09375 \r\nL 69.28125 6.78125 \r\nQ 63.578125 2.734375 56.6875 0.65625 \r\nQ 49.8125 -1.421875 42 -1.421875 \r\nQ 24.90625 -1.421875 15.25 8.5625 \r\nQ 5.609375 18.5625 5.609375 36.375 \r\nQ 5.609375 54.25 15.25 64.234375 \r\nQ 24.90625 74.21875 42 74.21875 \r\nQ 49.125 74.21875 55.546875 72.453125 \r\nQ 61.96875 70.703125 67.390625 67.28125 \r\nL 67.390625 56.78125 \r\nQ 61.921875 61.421875 55.765625 63.765625 \r\nQ 49.609375 66.109375 42.828125 66.109375 \r\nQ 29.4375 66.109375 22.71875 58.640625 \r\nQ 16.015625 51.171875 16.015625 36.375 \r\nQ 16.015625 21.625 22.71875 14.15625 \r\nQ 29.4375 6.6875 42.828125 6.6875 \r\nQ 48.046875 6.6875 52.140625 7.59375 \r\nQ 56.25 8.5 59.515625 10.40625 \r\nz\r\n\" id=\"DejaVuSans-71\"/>\r\n       <path d=\"M 44.28125 53.078125 \r\nL 44.28125 44.578125 \r\nQ 40.484375 46.53125 36.375 47.5 \r\nQ 32.28125 48.484375 27.875 48.484375 \r\nQ 21.1875 48.484375 17.84375 46.4375 \r\nQ 14.5 44.390625 14.5 40.28125 \r\nQ 14.5 37.15625 16.890625 35.375 \r\nQ 19.28125 33.59375 26.515625 31.984375 \r\nL 29.59375 31.296875 \r\nQ 39.15625 29.25 43.1875 25.515625 \r\nQ 47.21875 21.78125 47.21875 15.09375 \r\nQ 47.21875 7.46875 41.1875 3.015625 \r\nQ 35.15625 -1.421875 24.609375 -1.421875 \r\nQ 20.21875 -1.421875 15.453125 -0.5625 \r\nQ 10.6875 0.296875 5.421875 2 \r\nL 5.421875 11.28125 \r\nQ 10.40625 8.6875 15.234375 7.390625 \r\nQ 20.0625 6.109375 24.8125 6.109375 \r\nQ 31.15625 6.109375 34.5625 8.28125 \r\nQ 37.984375 10.453125 37.984375 14.40625 \r\nQ 37.984375 18.0625 35.515625 20.015625 \r\nQ 33.0625 21.96875 24.703125 23.78125 \r\nL 21.578125 24.515625 \r\nQ 13.234375 26.265625 9.515625 29.90625 \r\nQ 5.8125 33.546875 5.8125 39.890625 \r\nQ 5.8125 47.609375 11.28125 51.796875 \r\nQ 16.75 56 26.8125 56 \r\nQ 31.78125 56 36.171875 55.265625 \r\nQ 40.578125 54.546875 44.28125 53.078125 \r\nz\r\n\" id=\"DejaVuSans-115\"/>\r\n       <path d=\"M 45.40625 27.984375 \r\nQ 45.40625 37.75 41.375 43.109375 \r\nQ 37.359375 48.484375 30.078125 48.484375 \r\nQ 22.859375 48.484375 18.828125 43.109375 \r\nQ 14.796875 37.75 14.796875 27.984375 \r\nQ 14.796875 18.265625 18.828125 12.890625 \r\nQ 22.859375 7.515625 30.078125 7.515625 \r\nQ 37.359375 7.515625 41.375 12.890625 \r\nQ 45.40625 18.265625 45.40625 27.984375 \r\nz\r\nM 54.390625 6.78125 \r\nQ 54.390625 -7.171875 48.1875 -13.984375 \r\nQ 42 -20.796875 29.203125 -20.796875 \r\nQ 24.46875 -20.796875 20.265625 -20.09375 \r\nQ 16.0625 -19.390625 12.109375 -17.921875 \r\nL 12.109375 -9.1875 \r\nQ 16.0625 -11.328125 19.921875 -12.34375 \r\nQ 23.78125 -13.375 27.78125 -13.375 \r\nQ 36.625 -13.375 41.015625 -8.765625 \r\nQ 45.40625 -4.15625 45.40625 5.171875 \r\nL 45.40625 9.625 \r\nQ 42.625 4.78125 38.28125 2.390625 \r\nQ 33.9375 0 27.875 0 \r\nQ 17.828125 0 11.671875 7.65625 \r\nQ 5.515625 15.328125 5.515625 27.984375 \r\nQ 5.515625 40.671875 11.671875 48.328125 \r\nQ 17.828125 56 27.875 56 \r\nQ 33.9375 56 38.28125 53.609375 \r\nQ 42.625 51.21875 45.40625 46.390625 \r\nL 45.40625 54.6875 \r\nL 54.390625 54.6875 \r\nz\r\n\" id=\"DejaVuSans-103\"/>\r\n       <path d=\"M 34.28125 27.484375 \r\nQ 23.390625 27.484375 19.1875 25 \r\nQ 14.984375 22.515625 14.984375 16.5 \r\nQ 14.984375 11.71875 18.140625 8.90625 \r\nQ 21.296875 6.109375 26.703125 6.109375 \r\nQ 34.1875 6.109375 38.703125 11.40625 \r\nQ 43.21875 16.703125 43.21875 25.484375 \r\nL 43.21875 27.484375 \r\nz\r\nM 52.203125 31.203125 \r\nL 52.203125 0 \r\nL 43.21875 0 \r\nL 43.21875 8.296875 \r\nQ 40.140625 3.328125 35.546875 0.953125 \r\nQ 30.953125 -1.421875 24.3125 -1.421875 \r\nQ 15.921875 -1.421875 10.953125 3.296875 \r\nQ 6 8.015625 6 15.921875 \r\nQ 6 25.140625 12.171875 29.828125 \r\nQ 18.359375 34.515625 30.609375 34.515625 \r\nL 43.21875 34.515625 \r\nL 43.21875 35.40625 \r\nQ 43.21875 41.609375 39.140625 45 \r\nQ 35.0625 48.390625 27.6875 48.390625 \r\nQ 23 48.390625 18.546875 47.265625 \r\nQ 14.109375 46.140625 10.015625 43.890625 \r\nL 10.015625 52.203125 \r\nQ 14.9375 54.109375 19.578125 55.046875 \r\nQ 24.21875 56 28.609375 56 \r\nQ 40.484375 56 46.34375 49.84375 \r\nQ 52.203125 43.703125 52.203125 31.203125 \r\nz\r\n\" id=\"DejaVuSans-97\"/>\r\n       <path d=\"M 9.421875 75.984375 \r\nL 18.40625 75.984375 \r\nL 18.40625 0 \r\nL 9.421875 0 \r\nz\r\n\" id=\"DejaVuSans-108\"/>\r\n      </defs>\r\n      <use xlink:href=\"#DejaVuSans-69\"/>\r\n      <use x=\"63.183594\" xlink:href=\"#DejaVuSans-67\"/>\r\n      <use x=\"133.007812\" xlink:href=\"#DejaVuSans-71\"/>\r\n      <use x=\"210.498047\" xlink:href=\"#DejaVuSans-32\"/>\r\n      <use x=\"242.285156\" xlink:href=\"#DejaVuSans-115\"/>\r\n      <use x=\"294.384766\" xlink:href=\"#DejaVuSans-105\"/>\r\n      <use x=\"322.167969\" xlink:href=\"#DejaVuSans-103\"/>\r\n      <use x=\"385.644531\" xlink:href=\"#DejaVuSans-110\"/>\r\n      <use x=\"449.023438\" xlink:href=\"#DejaVuSans-97\"/>\r\n      <use x=\"510.302734\" xlink:href=\"#DejaVuSans-108\"/>\r\n     </g>\r\n    </g>\r\n   </g>\r\n   <g id=\"line2d_19\">\r\n    <path clip-path=\"url(#p72e0b8afd3)\" d=\"M 52.160938 189.529292 \r\nL 52.315937 189.529292 \r\nL 52.625938 186.449405 \r\nL 52.780937 185.833428 \r\nL 53.245937 188.913314 \r\nL 53.555937 187.065382 \r\nL 53.710938 186.449405 \r\nL 54.020937 190.145269 \r\nL 54.175938 190.145269 \r\nL 54.330938 188.297337 \r\nL 54.485937 188.297337 \r\nL 54.640938 187.68136 \r\nL 54.795938 187.68136 \r\nL 54.950937 188.913314 \r\nL 55.105938 188.913314 \r\nL 55.260937 188.297337 \r\nL 55.415937 188.297337 \r\nL 55.570938 188.913314 \r\nL 56.190937 201.232861 \r\nL 56.345938 202.464816 \r\nL 56.655937 211.088499 \r\nL 56.810938 208.624589 \r\nL 57.120937 181.521586 \r\nL 57.430937 137.171218 \r\nL 57.895937 50.934391 \r\nL 58.050938 39.846799 \r\nL 58.205938 47.854504 \r\nL 58.980938 205.544703 \r\nL 59.135937 204.312748 \r\nL 59.600937 196.92102 \r\nL 59.755938 196.92102 \r\nL 60.065937 193.841133 \r\nL 60.220938 191.993201 \r\nL 60.530937 195.073088 \r\nL 60.840937 193.841133 \r\nL 60.995937 191.377224 \r\nL 61.305937 193.841133 \r\nL 61.460938 192.609178 \r\nL 61.615938 194.45711 \r\nL 61.770937 191.377224 \r\nL 61.925938 190.761246 \r\nL 62.545938 195.073088 \r\nL 63.010937 190.761246 \r\nL 63.475937 195.689065 \r\nL 63.630938 191.993201 \r\nL 63.785938 193.225156 \r\nL 63.940937 192.609178 \r\nL 64.095938 193.225156 \r\nL 64.250938 194.45711 \r\nL 64.560938 193.225156 \r\nL 64.715937 193.841133 \r\nL 65.180937 193.841133 \r\nL 65.335938 196.305042 \r\nL 65.490938 193.225156 \r\nL 65.645937 193.841133 \r\nL 65.800938 192.609178 \r\nL 65.955938 192.609178 \r\nL 66.265938 193.841133 \r\nL 66.575937 192.609178 \r\nL 66.730938 193.841133 \r\nL 66.885937 193.841133 \r\nL 67.040937 195.073088 \r\nL 67.195938 194.45711 \r\nL 67.350937 195.073088 \r\nL 67.505938 193.225156 \r\nL 67.660938 194.45711 \r\nL 67.815937 193.841133 \r\nL 67.970938 192.609178 \r\nL 68.125938 195.073088 \r\nL 68.590937 191.377224 \r\nL 69.055937 195.073088 \r\nL 69.210938 194.45711 \r\nL 69.365938 191.993201 \r\nL 69.675938 193.225156 \r\nL 69.985937 196.92102 \r\nL 70.295938 194.45711 \r\nL 70.450937 194.45711 \r\nL 70.605938 195.073088 \r\nL 70.915937 198.152975 \r\nL 71.070938 197.536997 \r\nL 71.225937 196.305042 \r\nL 71.690937 201.232861 \r\nL 72.000938 201.232861 \r\nL 72.155937 199.384929 \r\nL 72.465937 199.384929 \r\nL 72.775938 201.232861 \r\nL 73.395937 196.305042 \r\nL 73.705938 196.305042 \r\nL 74.170938 190.761246 \r\nL 74.325937 191.377224 \r\nL 74.480938 191.377224 \r\nL 75.100937 185.21745 \r\nL 75.255938 185.833428 \r\nL 75.410938 183.985496 \r\nL 75.565937 183.985496 \r\nL 75.875938 179.057677 \r\nL 76.030937 180.905609 \r\nL 76.185938 180.289632 \r\nL 76.340937 182.137564 \r\nL 76.650938 180.905609 \r\nL 76.805937 179.057677 \r\nL 76.960938 179.057677 \r\nL 77.115938 179.673654 \r\nL 77.270937 179.057677 \r\nL 77.425938 179.673654 \r\nL 77.580938 179.057677 \r\nL 77.735937 176.593768 \r\nL 77.890938 178.4417 \r\nL 78.045938 178.4417 \r\nL 78.355938 180.905609 \r\nL 78.665937 179.673654 \r\nL 78.975937 180.905609 \r\nL 79.130938 180.905609 \r\nL 79.285938 181.521586 \r\nL 79.440937 180.905609 \r\nL 79.595938 178.4417 \r\nL 79.750938 180.289632 \r\nL 79.905937 180.289632 \r\nL 80.060938 180.905609 \r\nL 80.215937 180.905609 \r\nL 80.525938 179.057677 \r\nL 80.680937 181.521586 \r\nL 80.835938 180.289632 \r\nL 81.145937 181.521586 \r\nL 81.300938 180.905609 \r\nL 81.455938 179.673654 \r\nL 81.765938 180.905609 \r\nL 82.075937 183.985496 \r\nL 82.385937 180.289632 \r\nL 82.540937 182.137564 \r\nL 82.695938 182.137564 \r\nL 82.850937 182.753541 \r\nL 83.160938 182.753541 \r\nL 83.315937 180.905609 \r\nL 83.625938 182.137564 \r\nL 83.780937 183.369518 \r\nL 83.935938 181.521586 \r\nL 84.090937 182.753541 \r\nL 84.245937 180.905609 \r\nL 84.400938 182.137564 \r\nL 84.555937 181.521586 \r\nL 84.710938 183.369518 \r\nL 84.865938 183.369518 \r\nL 85.175938 180.905609 \r\nL 85.330938 181.521586 \r\nL 85.485937 181.521586 \r\nL 85.795938 183.369518 \r\nL 85.950937 182.753541 \r\nL 86.105938 178.4417 \r\nL 86.260937 180.905609 \r\nL 86.415937 180.905609 \r\nL 86.725937 182.137564 \r\nL 87.190937 179.057677 \r\nL 87.345938 181.521586 \r\nL 87.500938 180.905609 \r\nL 87.655937 182.137564 \r\nL 87.810938 180.905609 \r\nL 87.965937 177.825722 \r\nL 88.275938 180.905609 \r\nL 88.585938 180.905609 \r\nL 88.895937 178.4417 \r\nL 89.050938 178.4417 \r\nL 89.205938 177.825722 \r\nL 89.360937 176.593768 \r\nL 89.670938 172.281926 \r\nL 89.825937 171.049972 \r\nL 89.980938 171.049972 \r\nL 90.135937 171.665949 \r\nL 90.290937 172.897904 \r\nL 90.445938 171.665949 \r\nL 90.755938 167.354108 \r\nL 90.910938 166.122153 \r\nL 91.065937 167.354108 \r\nL 91.220938 167.354108 \r\nL 91.375938 167.970085 \r\nL 91.530937 165.506176 \r\nL 91.685938 166.122153 \r\nL 91.840937 167.354108 \r\nL 91.995937 167.354108 \r\nL 92.305937 170.433994 \r\nL 92.460938 169.818017 \r\nL 92.615938 167.970085 \r\nL 92.925938 167.970085 \r\nL 93.235937 171.049972 \r\nL 93.390938 170.433994 \r\nL 93.545938 166.73813 \r\nL 93.700937 166.122153 \r\nL 93.855938 164.274221 \r\nL 94.475937 174.745836 \r\nL 94.630938 174.745836 \r\nL 95.095938 180.289632 \r\nL 95.250938 180.289632 \r\nL 95.405937 179.673654 \r\nL 95.560938 178.4417 \r\nL 95.715937 180.289632 \r\nL 95.870937 179.673654 \r\nL 96.025938 181.521586 \r\nL 96.180937 180.905609 \r\nL 96.335938 180.905609 \r\nL 96.490938 180.289632 \r\nL 96.645937 180.905609 \r\nL 96.800938 182.753541 \r\nL 96.955938 182.137564 \r\nL 97.265938 179.673654 \r\nL 97.420938 182.137564 \r\nL 97.575937 181.521586 \r\nL 97.730938 182.137564 \r\nL 97.885937 183.369518 \r\nL 98.040937 182.753541 \r\nL 98.350937 180.289632 \r\nL 98.660938 185.21745 \r\nL 98.970938 193.841133 \r\nL 99.125938 194.45711 \r\nL 99.280937 197.536997 \r\nL 99.590937 206.16068 \r\nL 99.745937 206.776657 \r\nL 100.055937 182.137564 \r\nL 100.675938 121.155807 \r\nL 101.295938 32.455071 \r\nL 101.605938 13.359773 \r\nL 101.760937 15.207705 \r\nL 101.915937 34.91898 \r\nL 102.535938 196.92102 \r\nL 102.690937 198.152975 \r\nL 103.000938 184.601473 \r\nL 103.155937 184.601473 \r\nL 103.465937 187.68136 \r\nL 103.775938 183.985496 \r\nL 103.930937 183.985496 \r\nL 104.240938 187.68136 \r\nL 104.395937 187.68136 \r\nL 104.550938 188.297337 \r\nL 104.705938 184.601473 \r\nL 105.325937 189.529292 \r\nL 105.635937 186.449405 \r\nL 105.790937 187.065382 \r\nL 106.100937 188.913314 \r\nL 106.255938 189.529292 \r\nL 106.565937 187.68136 \r\nL 106.720938 187.065382 \r\nL 106.875938 187.68136 \r\nL 107.030937 187.68136 \r\nL 107.185938 188.913314 \r\nL 107.495937 186.449405 \r\nL 107.650938 187.065382 \r\nL 107.805937 186.449405 \r\nL 108.115938 189.529292 \r\nL 108.270937 188.297337 \r\nL 108.425938 184.601473 \r\nL 108.890938 186.449405 \r\nL 109.045938 186.449405 \r\nL 109.200937 185.833428 \r\nL 109.355938 185.833428 \r\nL 109.510937 185.21745 \r\nL 109.665937 187.68136 \r\nL 109.975937 187.68136 \r\nL 110.285938 185.21745 \r\nL 110.440937 183.985496 \r\nL 110.750938 187.68136 \r\nL 110.905937 187.68136 \r\nL 111.060938 187.065382 \r\nL 111.215937 185.833428 \r\nL 111.370937 185.833428 \r\nL 111.525938 186.449405 \r\nL 111.835938 188.297337 \r\nL 112.145937 186.449405 \r\nL 112.300938 185.833428 \r\nL 112.455938 188.297337 \r\nL 112.610937 187.68136 \r\nL 112.765938 187.68136 \r\nL 112.920938 185.833428 \r\nL 113.230938 185.833428 \r\nL 113.385937 186.449405 \r\nL 113.540937 188.913314 \r\nL 113.695938 187.68136 \r\nL 113.850937 188.297337 \r\nL 114.005938 186.449405 \r\nL 114.160938 187.065382 \r\nL 114.470938 189.529292 \r\nL 114.625938 189.529292 \r\nL 114.780937 188.913314 \r\nL 114.935938 189.529292 \r\nL 115.090937 188.297337 \r\nL 115.245937 188.913314 \r\nL 115.400938 190.761246 \r\nL 115.555937 190.145269 \r\nL 115.865938 187.065382 \r\nL 116.020937 188.297337 \r\nL 116.175938 188.297337 \r\nL 116.330938 188.913314 \r\nL 116.485937 187.065382 \r\nL 116.640938 187.065382 \r\nL 116.950937 182.753541 \r\nL 117.260937 183.985496 \r\nL 117.415937 183.985496 \r\nL 117.725937 178.4417 \r\nL 117.880938 178.4417 \r\nL 118.035938 176.593768 \r\nL 118.190937 177.825722 \r\nL 118.655937 174.745836 \r\nL 118.810938 174.129858 \r\nL 118.965937 174.745836 \r\nL 119.120937 175.97779 \r\nL 119.275938 175.97779 \r\nL 119.430937 175.361813 \r\nL 119.740938 172.897904 \r\nL 119.895937 174.745836 \r\nL 120.050938 174.129858 \r\nL 120.205938 174.129858 \r\nL 120.360937 173.513881 \r\nL 120.515938 172.281926 \r\nL 120.670938 172.281926 \r\nL 120.980938 175.361813 \r\nL 121.135937 175.361813 \r\nL 121.290937 173.513881 \r\nL 121.445938 174.129858 \r\nL 121.600937 175.361813 \r\nL 121.755938 174.745836 \r\nL 121.910938 175.361813 \r\nL 122.220938 177.209745 \r\nL 122.530937 173.513881 \r\nL 122.685938 176.593768 \r\nL 122.995937 176.593768 \r\nL 123.150938 175.361813 \r\nL 123.305937 176.593768 \r\nL 123.460938 175.361813 \r\nL 123.770937 176.593768 \r\nL 123.925938 177.825722 \r\nL 124.235937 175.361813 \r\nL 124.390938 176.593768 \r\nL 124.545938 175.97779 \r\nL 124.855938 179.057677 \r\nL 125.010937 175.97779 \r\nL 125.165937 177.825722 \r\nL 125.320938 176.593768 \r\nL 125.475937 177.209745 \r\nL 125.785938 180.289632 \r\nL 125.940937 177.825722 \r\nL 126.095938 177.825722 \r\nL 126.250938 179.057677 \r\nL 126.405937 179.057677 \r\nL 126.560938 180.289632 \r\nL 126.715937 180.289632 \r\nL 126.870937 178.4417 \r\nL 127.025938 179.057677 \r\nL 127.180937 177.209745 \r\nL 127.645937 181.521586 \r\nL 127.800938 180.905609 \r\nL 127.955938 178.4417 \r\nL 128.110937 179.057677 \r\nL 128.420938 182.137564 \r\nL 128.575937 180.905609 \r\nL 128.730938 180.905609 \r\nL 129.040937 179.057677 \r\nL 129.195938 179.673654 \r\nL 129.350937 181.521586 \r\nL 129.505938 181.521586 \r\nL 129.815937 178.4417 \r\nL 130.125938 179.673654 \r\nL 130.435938 182.137564 \r\nL 130.745937 178.4417 \r\nL 130.900938 179.057677 \r\nL 131.055937 179.057677 \r\nL 131.365938 181.521586 \r\nL 131.520937 178.4417 \r\nL 131.830938 178.4417 \r\nL 131.985937 182.137564 \r\nL 132.140938 181.521586 \r\nL 132.605938 177.825722 \r\nL 132.760937 175.361813 \r\nL 132.915937 175.97779 \r\nL 133.535938 169.818017 \r\nL 133.690937 169.20204 \r\nL 133.845938 170.433994 \r\nL 134.000938 169.818017 \r\nL 134.155937 170.433994 \r\nL 134.465937 166.73813 \r\nL 134.620937 165.506176 \r\nL 134.930937 166.73813 \r\nL 135.085938 169.20204 \r\nL 135.240938 166.73813 \r\nL 135.395937 166.122153 \r\nL 135.550938 166.73813 \r\nL 135.705938 167.970085 \r\nL 135.860937 170.433994 \r\nL 136.015938 171.049972 \r\nL 136.170938 168.586062 \r\nL 136.325937 167.970085 \r\nL 136.480938 167.970085 \r\nL 136.945938 172.281926 \r\nL 137.410938 164.274221 \r\nL 137.720938 169.818017 \r\nL 137.875938 173.513881 \r\nL 138.030937 173.513881 \r\nL 138.805937 182.137564 \r\nL 138.960938 182.137564 \r\nL 139.115938 180.905609 \r\nL 139.270937 180.905609 \r\nL 139.425938 182.137564 \r\nL 139.580938 182.137564 \r\nL 139.735937 182.753541 \r\nL 140.045938 182.753541 \r\nL 140.200937 183.369518 \r\nL 140.355938 182.753541 \r\nL 140.665937 184.601473 \r\nL 140.820938 183.985496 \r\nL 140.975937 183.985496 \r\nL 141.130938 183.369518 \r\nL 141.285938 183.985496 \r\nL 141.440937 183.369518 \r\nL 141.595938 183.985496 \r\nL 141.750938 183.369518 \r\nL 141.905937 183.369518 \r\nL 142.060938 184.601473 \r\nL 142.215937 187.68136 \r\nL 142.525938 198.768952 \r\nL 142.680937 200.000907 \r\nL 143.145937 207.392635 \r\nL 143.455938 182.753541 \r\nL 143.920938 108.220283 \r\nL 144.230938 44.774618 \r\nL 144.385937 31.223116 \r\nL 144.540937 29.375184 \r\nL 144.695938 51.550368 \r\nL 145.160938 185.21745 \r\nL 145.315937 201.848839 \r\nL 145.470938 201.848839 \r\nL 145.935938 187.68136 \r\nL 146.090937 186.449405 \r\nL 146.400938 187.68136 \r\nL 146.555937 187.68136 \r\nL 146.865938 185.833428 \r\nL 147.020937 186.449405 \r\nL 147.175938 188.297337 \r\nL 147.330938 187.68136 \r\nL 147.485937 185.833428 \r\nL 147.950937 190.145269 \r\nL 148.260937 188.913314 \r\nL 148.415937 187.68136 \r\nL 148.570938 187.68136 \r\nL 148.880938 190.145269 \r\nL 149.035938 188.297337 \r\nL 149.190937 188.913314 \r\nL 149.345938 187.68136 \r\nL 149.500938 187.68136 \r\nL 149.655937 188.297337 \r\nL 149.965937 191.377224 \r\nL 150.120937 187.065382 \r\nL 150.585938 187.065382 \r\nL 150.895937 188.297337 \r\nL 151.205938 185.21745 \r\nL 151.515938 187.68136 \r\nL 151.670938 186.449405 \r\nL 151.825937 188.297337 \r\nL 151.980938 185.21745 \r\nL 152.290937 186.449405 \r\nL 152.445938 185.833428 \r\nL 152.755938 188.913314 \r\nL 153.065937 186.449405 \r\nL 153.220938 187.065382 \r\nL 153.375938 185.833428 \r\nL 153.685938 188.297337 \r\nL 153.840937 187.68136 \r\nL 153.995937 186.449405 \r\nL 154.150938 187.065382 \r\nL 154.305937 187.065382 \r\nL 154.460938 188.297337 \r\nL 154.615938 188.297337 \r\nL 154.925938 185.833428 \r\nL 155.080938 187.065382 \r\nL 155.235937 187.065382 \r\nL 155.390938 187.68136 \r\nL 155.545938 186.449405 \r\nL 155.700937 187.065382 \r\nL 156.010937 185.21745 \r\nL 156.320938 188.297337 \r\nL 156.630938 187.065382 \r\nL 156.785938 185.833428 \r\nL 157.250938 187.68136 \r\nL 157.405937 188.913314 \r\nL 157.715937 187.065382 \r\nL 157.870937 187.68136 \r\nL 158.025938 187.68136 \r\nL 158.180937 190.145269 \r\nL 158.335938 189.529292 \r\nL 158.490938 188.297337 \r\nL 158.645937 190.145269 \r\nL 158.800938 188.297337 \r\nL 159.110937 189.529292 \r\nL 159.265938 190.761246 \r\nL 159.575937 187.065382 \r\nL 159.730938 187.065382 \r\nL 159.885937 187.68136 \r\nL 160.040937 187.68136 \r\nL 160.195938 188.913314 \r\nL 160.350937 185.21745 \r\nL 160.505938 184.601473 \r\nL 160.660938 183.369518 \r\nL 160.815937 183.369518 \r\nL 160.970938 183.985496 \r\nL 161.280937 180.905609 \r\nL 161.590937 178.4417 \r\nL 161.745937 177.825722 \r\nL 161.900938 178.4417 \r\nL 162.055937 178.4417 \r\nL 162.365938 175.361813 \r\nL 162.520937 175.361813 \r\nL 162.675938 175.97779 \r\nL 162.830938 177.209745 \r\nL 162.985937 176.593768 \r\nL 163.295938 174.745836 \r\nL 163.450937 174.745836 \r\nL 163.760937 175.97779 \r\nL 163.915937 174.745836 \r\nL 164.225937 174.745836 \r\nL 164.380938 174.129858 \r\nL 164.690937 176.593768 \r\nL 164.845938 176.593768 \r\nL 165.000938 174.129858 \r\nL 165.465937 174.129858 \r\nL 165.775938 176.593768 \r\nL 166.085938 175.361813 \r\nL 166.240938 175.361813 \r\nL 166.550938 178.4417 \r\nL 167.015938 176.593768 \r\nL 167.170938 176.593768 \r\nL 167.325937 178.4417 \r\nL 167.635937 178.4417 \r\nL 167.790937 177.825722 \r\nL 167.945938 175.97779 \r\nL 168.100937 175.97779 \r\nL 168.410938 177.825722 \r\nL 168.875938 177.825722 \r\nL 169.030937 175.97779 \r\nL 169.185938 177.825722 \r\nL 169.340937 177.209745 \r\nL 169.495937 179.057677 \r\nL 169.650938 179.057677 \r\nL 169.805937 177.825722 \r\nL 169.960938 177.825722 \r\nL 170.270937 179.057677 \r\nL 170.425938 180.289632 \r\nL 170.735937 179.057677 \r\nL 170.890938 179.057677 \r\nL 171.045938 180.905609 \r\nL 171.200937 180.289632 \r\nL 171.355938 181.521586 \r\nL 171.665937 178.4417 \r\nL 171.975937 180.289632 \r\nL 172.285938 181.521586 \r\nL 172.440937 179.057677 \r\nL 172.595938 180.289632 \r\nL 172.750938 179.057677 \r\nL 173.215937 180.905609 \r\nL 173.370937 180.289632 \r\nL 173.525938 179.057677 \r\nL 173.680937 179.673654 \r\nL 173.835938 179.673654 \r\nL 173.990938 180.905609 \r\nL 174.145937 180.289632 \r\nL 174.455938 177.825722 \r\nL 174.610937 180.905609 \r\nL 174.765938 181.521586 \r\nL 174.920938 180.905609 \r\nL 175.075937 180.905609 \r\nL 175.540937 177.825722 \r\nL 175.695938 177.825722 \r\nL 175.850937 180.289632 \r\nL 176.005938 179.673654 \r\nL 176.315937 176.593768 \r\nL 176.935938 180.905609 \r\nL 177.245937 178.4417 \r\nL 177.555937 177.209745 \r\nL 177.865938 179.057677 \r\nL 178.175938 173.513881 \r\nL 178.330938 173.513881 \r\nL 178.485937 172.281926 \r\nL 178.795938 173.513881 \r\nL 179.260937 169.20204 \r\nL 179.415937 168.586062 \r\nL 179.725937 168.586062 \r\nL 179.880938 163.658244 \r\nL 180.035938 162.426289 \r\nL 180.500938 166.73813 \r\nL 180.655937 168.586062 \r\nL 180.965937 167.354108 \r\nL 181.120937 166.122153 \r\nL 181.275938 166.122153 \r\nL 181.430937 168.586062 \r\nL 181.585938 168.586062 \r\nL 181.740938 169.20204 \r\nL 181.895937 168.586062 \r\nL 182.050938 167.354108 \r\nL 182.205938 164.890198 \r\nL 182.360937 164.274221 \r\nL 182.515938 164.274221 \r\nL 183.600937 175.97779 \r\nL 183.910938 177.209745 \r\nL 184.530937 182.137564 \r\nL 184.995937 180.289632 \r\nL 185.150938 182.137564 \r\nL 185.460938 182.137564 \r\nL 185.615938 180.905609 \r\nL 186.235937 185.21745 \r\nL 186.390938 183.369518 \r\nL 186.545938 183.369518 \r\nL 186.700937 182.753541 \r\nL 186.855938 183.369518 \r\nL 187.010937 184.601473 \r\nL 187.165937 184.601473 \r\nL 187.475937 182.137564 \r\nL 187.630938 182.137564 \r\nL 188.095938 190.761246 \r\nL 188.405937 196.305042 \r\nL 188.560938 197.536997 \r\nL 188.715937 200.616884 \r\nL 189.025938 211.704476 \r\nL 189.335938 193.841133 \r\nL 189.800938 143.946969 \r\nL 190.265938 55.86221 \r\nL 190.420938 42.926686 \r\nL 190.575937 43.542663 \r\nL 190.730938 62.021983 \r\nL 191.350937 193.225156 \r\nL 191.505938 200.616884 \r\nL 191.660938 198.768952 \r\nL 191.970938 187.68136 \r\nL 192.125938 185.833428 \r\nL 192.280937 186.449405 \r\nL 192.435938 185.21745 \r\nL 192.745937 188.913314 \r\nL 192.900938 186.449405 \r\nL 193.055937 185.833428 \r\nL 193.210938 186.449405 \r\nL 193.365938 187.68136 \r\nL 193.520937 187.68136 \r\nL 193.675938 186.449405 \r\nL 193.830938 187.68136 \r\nL 193.985937 187.065382 \r\nL 194.140938 187.065382 \r\nL 194.605938 190.145269 \r\nL 194.915937 187.68136 \r\nL 195.070938 187.68136 \r\nL 195.380938 189.529292 \r\nL 195.535938 190.145269 \r\nL 195.845938 187.68136 \r\nL 196.000938 187.065382 \r\nL 196.155937 187.68136 \r\nL 196.465937 190.761246 \r\nL 196.620937 188.297337 \r\nL 196.775938 187.68136 \r\nL 197.085938 187.68136 \r\nL 197.395937 188.913314 \r\nL 197.550938 188.913314 \r\nL 197.705938 187.065382 \r\nL 197.860937 187.68136 \r\nL 198.170938 187.68136 \r\nL 198.325937 188.913314 \r\nL 198.480938 188.297337 \r\nL 198.945938 188.297337 \r\nL 199.100937 190.145269 \r\nL 199.255938 189.529292 \r\nL 199.410938 189.529292 \r\nL 199.720938 187.065382 \r\nL 199.875938 188.913314 \r\nL 200.030937 187.065382 \r\nL 200.185938 188.297337 \r\nL 200.340937 186.449405 \r\nL 200.495937 187.68136 \r\nL 200.650938 186.449405 \r\nL 200.960938 187.68136 \r\nL 201.115938 187.68136 \r\nL 201.270937 185.833428 \r\nL 201.425938 186.449405 \r\nL 201.580938 186.449405 \r\nL 201.735937 187.065382 \r\nL 201.890938 186.449405 \r\nL 202.045938 186.449405 \r\nL 202.200937 183.369518 \r\nL 202.510937 183.369518 \r\nL 202.665937 182.137564 \r\nL 202.820938 182.753541 \r\nL 202.975937 182.137564 \r\nL 203.440937 178.4417 \r\nL 203.905937 178.4417 \r\nL 204.215937 173.513881 \r\nL 204.370937 171.665949 \r\nL 204.680937 172.897904 \r\nL 204.990938 174.745836 \r\nL 205.300938 172.281926 \r\nL 205.455938 174.745836 \r\nL 205.610937 173.513881 \r\nL 205.765938 174.129858 \r\nL 206.075937 168.586062 \r\nL 206.695938 180.289632 \r\nL 206.850937 179.673654 \r\nL 207.625938 190.145269 \r\nL 208.090937 185.833428 \r\nL 208.245937 187.065382 \r\nL 208.400938 187.065382 \r\nL 208.555937 187.68136 \r\nL 208.865938 184.601473 \r\nL 209.020937 182.753541 \r\nL 209.330938 185.21745 \r\nL 209.485937 184.601473 \r\nL 209.795938 182.137564 \r\nL 209.950937 180.905609 \r\nL 210.105938 181.521586 \r\nL 210.260937 181.521586 \r\nL 210.415937 182.137564 \r\nL 210.570938 179.673654 \r\nL 210.880938 181.521586 \r\nL 211.035938 180.289632 \r\nL 211.190937 181.521586 \r\nL 211.345938 181.521586 \r\nL 211.500938 182.137564 \r\nL 211.655937 180.905609 \r\nL 212.275938 185.21745 \r\nL 212.430937 182.753541 \r\nL 212.585938 182.137564 \r\nL 213.050938 182.137564 \r\nL 213.205938 183.369518 \r\nL 213.360937 181.521586 \r\nL 213.515938 181.521586 \r\nL 213.825937 182.753541 \r\nL 214.135937 184.601473 \r\nL 214.290937 183.985496 \r\nL 214.445938 182.137564 \r\nL 214.600937 183.369518 \r\nL 214.755938 183.369518 \r\nL 214.910938 185.21745 \r\nL 215.220938 183.985496 \r\nL 215.530937 180.905609 \r\nL 215.995937 185.833428 \r\nL 216.305937 183.369518 \r\nL 216.460938 180.905609 \r\nL 216.615938 182.753541 \r\nL 216.770937 182.753541 \r\nL 216.925938 184.601473 \r\nL 217.235937 183.369518 \r\nL 217.700937 191.377224 \r\nL 218.165937 189.529292 \r\nL 218.320938 188.297337 \r\nL 218.630938 159.346402 \r\nL 219.560938 13.975751 \r\nL 219.715937 16.43966 \r\nL 220.025938 103.292465 \r\nL 220.335938 190.761246 \r\nL 220.490938 203.080793 \r\nL 220.645937 199.384929 \r\nL 220.955938 185.21745 \r\nL 221.110937 183.985496 \r\nL 221.265938 184.601473 \r\nL 221.420938 184.601473 \r\nL 221.575937 185.833428 \r\nL 221.885937 182.137564 \r\nL 222.040937 181.521586 \r\nL 222.195938 183.369518 \r\nL 222.350937 183.369518 \r\nL 222.505938 183.985496 \r\nL 222.660938 183.369518 \r\nL 222.815937 183.369518 \r\nL 222.970938 182.137564 \r\nL 223.280937 183.985496 \r\nL 223.435938 184.601473 \r\nL 223.745937 182.753541 \r\nL 223.900938 183.369518 \r\nL 224.055937 182.137564 \r\nL 224.365938 185.21745 \r\nL 224.675938 182.753541 \r\nL 224.830938 183.369518 \r\nL 224.985937 184.601473 \r\nL 225.140938 183.985496 \r\nL 225.295938 185.833428 \r\nL 225.450937 185.833428 \r\nL 225.605938 183.369518 \r\nL 225.760937 182.753541 \r\nL 225.915937 183.985496 \r\nL 226.070938 183.369518 \r\nL 226.225937 185.833428 \r\nL 226.535938 182.137564 \r\nL 226.845938 182.137564 \r\nL 227.000938 182.753541 \r\nL 227.310938 182.753541 \r\nL 227.620937 179.057677 \r\nL 228.085938 182.137564 \r\nL 228.550938 180.289632 \r\nL 228.860937 182.137564 \r\nL 229.170938 182.137564 \r\nL 229.325937 181.521586 \r\nL 229.480938 182.753541 \r\nL 229.635937 182.753541 \r\nL 229.790937 183.369518 \r\nL 229.945938 182.753541 \r\nL 230.100937 182.753541 \r\nL 230.255938 180.905609 \r\nL 230.565937 180.905609 \r\nL 230.720938 181.521586 \r\nL 230.875938 182.753541 \r\nL 231.185938 180.289632 \r\nL 231.340937 180.289632 \r\nL 231.805937 182.137564 \r\nL 231.960938 179.673654 \r\nL 232.115938 179.673654 \r\nL 232.270937 181.521586 \r\nL 232.425938 179.057677 \r\nL 232.735937 184.601473 \r\nL 232.890938 182.753541 \r\nL 233.045938 183.369518 \r\nL 233.355938 186.449405 \r\nL 233.510937 188.297337 \r\nL 233.665937 188.297337 \r\nL 233.975937 186.449405 \r\nL 234.130938 187.065382 \r\nL 234.595938 190.761246 \r\nL 234.750938 190.145269 \r\nL 234.905937 188.913314 \r\nL 235.370937 191.993201 \r\nL 235.525938 191.993201 \r\nL 235.990938 188.297337 \r\nL 236.145937 189.529292 \r\nL 236.455938 189.529292 \r\nL 236.765938 184.601473 \r\nL 236.920938 183.985496 \r\nL 237.075937 186.449405 \r\nL 237.385937 185.21745 \r\nL 237.540937 183.985496 \r\nL 237.850937 183.985496 \r\nL 238.005938 182.753541 \r\nL 238.160938 182.753541 \r\nL 238.470938 181.521586 \r\nL 238.625938 181.521586 \r\nL 238.780937 180.289632 \r\nL 238.935938 180.905609 \r\nL 239.090937 180.905609 \r\nL 239.245937 181.521586 \r\nL 239.400938 180.289632 \r\nL 239.710938 180.289632 \r\nL 239.865938 179.673654 \r\nL 240.020937 180.905609 \r\nL 240.330938 180.905609 \r\nL 240.640938 178.4417 \r\nL 240.795938 178.4417 \r\nL 241.105938 182.137564 \r\nL 241.415937 179.673654 \r\nL 241.570938 180.289632 \r\nL 241.725937 179.057677 \r\nL 241.880938 179.057677 \r\nL 242.035938 181.521586 \r\nL 242.190937 180.905609 \r\nL 242.345938 178.4417 \r\nL 242.500938 179.057677 \r\nL 242.655937 179.057677 \r\nL 242.965937 181.521586 \r\nL 243.275938 179.057677 \r\nL 243.585938 179.057677 \r\nL 243.895937 180.905609 \r\nL 244.050938 180.905609 \r\nL 244.205938 179.673654 \r\nL 244.515938 179.673654 \r\nL 244.825937 181.521586 \r\nL 244.980938 181.521586 \r\nL 245.135937 178.4417 \r\nL 245.290937 180.289632 \r\nL 245.445938 180.289632 \r\nL 245.600937 180.905609 \r\nL 245.910938 180.905609 \r\nL 246.065937 179.673654 \r\nL 246.220938 179.673654 \r\nL 246.530937 182.753541 \r\nL 246.995937 180.905609 \r\nL 247.150938 179.057677 \r\nL 247.305937 179.673654 \r\nL 247.460938 179.673654 \r\nL 247.615938 180.905609 \r\nL 247.770937 180.289632 \r\nL 248.080938 180.289632 \r\nL 248.235937 179.673654 \r\nL 248.390938 180.905609 \r\nL 248.545938 183.369518 \r\nL 248.700937 180.905609 \r\nL 248.855938 180.905609 \r\nL 249.010937 180.289632 \r\nL 249.475937 182.137564 \r\nL 249.630938 182.137564 \r\nL 249.940937 179.673654 \r\nL 250.095938 179.057677 \r\nL 250.405937 183.369518 \r\nL 250.870937 179.057677 \r\nL 251.025938 179.057677 \r\nL 251.180937 182.137564 \r\nL 251.335938 182.137564 \r\nL 251.645937 179.057677 \r\nL 251.800938 180.905609 \r\nL 251.955938 179.057677 \r\nL 252.110937 180.289632 \r\nL 252.265938 180.289632 \r\nL 252.420938 180.905609 \r\nL 252.575937 180.289632 \r\nL 252.730938 179.057677 \r\nL 252.885937 179.057677 \r\nL 253.195938 180.905609 \r\nL 253.350937 180.289632 \r\nL 253.505938 179.057677 \r\nL 253.660938 179.057677 \r\nL 253.815937 180.289632 \r\nL 253.970938 180.289632 \r\nL 254.125938 182.137564 \r\nL 254.435938 179.673654 \r\nL 254.590937 179.673654 \r\nL 254.745937 178.4417 \r\nL 255.055937 181.521586 \r\nL 255.365938 177.825722 \r\nL 255.675938 179.673654 \r\nL 255.830938 180.289632 \r\nL 255.985937 180.289632 \r\nL 256.140938 179.673654 \r\nL 256.450937 177.209745 \r\nL 256.605938 177.825722 \r\nL 256.915937 180.289632 \r\nL 257.070938 180.289632 \r\nL 257.225937 178.4417 \r\nL 257.535938 180.905609 \r\nL 257.690937 179.673654 \r\nL 257.845938 179.673654 \r\nL 258.000938 177.209745 \r\nL 258.310938 178.4417 \r\nL 258.465937 178.4417 \r\nL 258.620937 179.673654 \r\nL 258.775938 179.057677 \r\nL 259.395937 172.897904 \r\nL 259.550938 173.513881 \r\nL 259.705938 174.745836 \r\nL 260.015938 169.818017 \r\nL 260.170938 169.818017 \r\nL 260.325937 170.433994 \r\nL 260.790937 170.433994 \r\nL 261.100937 167.970085 \r\nL 261.255938 166.73813 \r\nL 261.565937 169.818017 \r\nL 261.875938 165.506176 \r\nL 262.030937 165.506176 \r\nL 262.340937 167.970085 \r\nL 262.805937 167.970085 \r\nL 262.960938 167.354108 \r\nL 263.115938 167.970085 \r\nL 263.270937 167.970085 \r\nL 263.425938 168.586062 \r\nL 263.580938 167.970085 \r\nL 263.735937 167.970085 \r\nL 263.890938 165.506176 \r\nL 264.045938 165.506176 \r\nL 264.200937 164.890198 \r\nL 264.510937 169.20204 \r\nL 264.665937 171.665949 \r\nL 264.820938 171.665949 \r\nL 265.285938 179.057677 \r\nL 265.440937 177.825722 \r\nL 265.595938 178.4417 \r\nL 265.750938 178.4417 \r\nL 265.905937 179.057677 \r\nL 266.060938 180.289632 \r\nL 266.215937 179.057677 \r\nL 266.525938 179.057677 \r\nL 266.680937 177.825722 \r\nL 266.835938 177.825722 \r\nL 266.990938 179.673654 \r\nL 267.455938 179.673654 \r\nL 267.610937 179.057677 \r\nL 267.765938 180.289632 \r\nL 267.920938 180.289632 \r\nL 268.075937 179.673654 \r\nL 268.385937 177.209745 \r\nL 268.695938 177.209745 \r\nL 268.850937 177.825722 \r\nL 269.160938 180.289632 \r\nL 269.315937 179.673654 \r\nL 269.470938 182.137564 \r\nL 269.935938 193.841133 \r\nL 270.245937 196.305042 \r\nL 270.555937 202.464816 \r\nL 270.710938 199.384929 \r\nL 270.865938 191.993201 \r\nL 271.485937 109.452238 \r\nL 271.950937 30.607139 \r\nL 272.105938 26.911275 \r\nL 272.260937 49.086459 \r\nL 272.880938 191.993201 \r\nL 273.035938 195.073088 \r\nL 273.190937 192.609178 \r\nL 273.500938 183.985496 \r\nL 273.965937 182.137564 \r\nL 274.120937 182.137564 \r\nL 274.275938 182.753541 \r\nL 274.585938 185.833428 \r\nL 274.895937 183.985496 \r\nL 275.050938 183.985496 \r\nL 275.205938 184.601473 \r\nL 275.360937 186.449405 \r\nL 275.980938 183.985496 \r\nL 276.135937 184.601473 \r\nL 276.290937 184.601473 \r\nL 276.445938 185.21745 \r\nL 276.755938 183.985496 \r\nL 276.910938 182.137564 \r\nL 277.065937 183.369518 \r\nL 277.220938 183.369518 \r\nL 277.375938 185.21745 \r\nL 277.685938 182.753541 \r\nL 277.840937 182.753541 \r\nL 277.995937 185.21745 \r\nL 278.305937 185.21745 \r\nL 278.615938 182.137564 \r\nL 278.770937 182.753541 \r\nL 278.925938 182.753541 \r\nL 279.235937 185.21745 \r\nL 279.390938 183.985496 \r\nL 279.545938 184.601473 \r\nL 279.855938 184.601473 \r\nL 280.010937 185.833428 \r\nL 280.165937 185.21745 \r\nL 280.630938 182.137564 \r\nL 280.940937 183.985496 \r\nL 281.095938 184.601473 \r\nL 281.250938 182.137564 \r\nL 281.405937 182.753541 \r\nL 281.560938 182.137564 \r\nL 281.870937 183.985496 \r\nL 282.025938 184.601473 \r\nL 282.180937 183.369518 \r\nL 282.335938 183.369518 \r\nL 282.490938 182.137564 \r\nL 282.645937 182.753541 \r\nL 283.110937 185.833428 \r\nL 283.420938 184.601473 \r\nL 283.575937 184.601473 \r\nL 283.730938 185.21745 \r\nL 284.040937 183.985496 \r\nL 284.350937 182.137564 \r\nL 284.815937 185.21745 \r\nL 284.970938 185.21745 \r\nL 285.125938 184.601473 \r\nL 285.280937 184.601473 \r\nL 285.435938 187.68136 \r\nL 285.590937 188.297337 \r\nL 285.745937 189.529292 \r\nL 285.900938 188.297337 \r\nL 286.055937 189.529292 \r\nL 286.210938 188.913314 \r\nL 286.365938 189.529292 \r\nL 286.675938 191.993201 \r\nL 287.140938 188.297337 \r\nL 287.295938 189.529292 \r\nL 287.605938 188.297337 \r\nL 287.760937 188.297337 \r\nL 287.915937 185.833428 \r\nL 288.070938 185.21745 \r\nL 288.225937 185.21745 \r\nL 289.000938 176.593768 \r\nL 289.155937 175.97779 \r\nL 289.310938 173.513881 \r\nL 289.465937 174.129858 \r\nL 289.620937 172.281926 \r\nL 289.775938 172.897904 \r\nL 290.085938 170.433994 \r\nL 290.240938 171.049972 \r\nL 290.395937 171.049972 \r\nL 290.860937 167.970085 \r\nL 291.015938 168.586062 \r\nL 291.170938 169.818017 \r\nL 291.325937 169.20204 \r\nL 291.480938 169.20204 \r\nL 291.635937 170.433994 \r\nL 291.790937 167.970085 \r\nL 291.945938 169.818017 \r\nL 292.100937 169.818017 \r\nL 292.255938 170.433994 \r\nL 292.565937 168.586062 \r\nL 292.720938 167.970085 \r\nL 292.875938 167.970085 \r\nL 293.185938 170.433994 \r\nL 293.340937 169.20204 \r\nL 293.495937 170.433994 \r\nL 293.650938 167.970085 \r\nL 294.115938 171.665949 \r\nL 294.270937 170.433994 \r\nL 294.580938 170.433994 \r\nL 294.735937 169.818017 \r\nL 294.890938 172.281926 \r\nL 295.045938 171.665949 \r\nL 295.200937 171.665949 \r\nL 295.355938 170.433994 \r\nL 295.510937 170.433994 \r\nL 295.665937 171.665949 \r\nL 295.820938 171.665949 \r\nL 295.975937 171.049972 \r\nL 296.130938 171.049972 \r\nL 296.285938 170.433994 \r\nL 296.750938 174.745836 \r\nL 297.370937 172.281926 \r\nL 297.525938 174.129858 \r\nL 297.680937 174.129858 \r\nL 297.835938 174.745836 \r\nL 297.990938 174.745836 \r\nL 298.300938 173.513881 \r\nL 298.455938 173.513881 \r\nL 298.765938 176.593768 \r\nL 299.075937 174.129858 \r\nL 299.230938 173.513881 \r\nL 299.385937 175.97779 \r\nL 299.540937 176.593768 \r\nL 299.695938 175.97779 \r\nL 299.850937 175.97779 \r\nL 300.005938 174.129858 \r\nL 300.160938 174.129858 \r\nL 300.625938 177.209745 \r\nL 300.780937 176.593768 \r\nL 300.935938 177.209745 \r\nL 301.090937 176.593768 \r\nL 301.245937 177.825722 \r\nL 301.400938 177.825722 \r\nL 301.555937 178.4417 \r\nL 301.865938 175.97779 \r\nL 302.175938 177.825722 \r\nL 302.330938 177.209745 \r\nL 302.485937 179.673654 \r\nL 302.640938 177.209745 \r\nL 302.795938 177.209745 \r\nL 302.950937 176.593768 \r\nL 303.105938 177.825722 \r\nL 303.260937 177.825722 \r\nL 303.415937 178.4417 \r\nL 303.880938 174.745836 \r\nL 304.035938 175.361813 \r\nL 304.190937 175.361813 \r\nL 304.345938 175.97779 \r\nL 304.500938 177.209745 \r\nL 304.810938 175.361813 \r\nL 305.120937 176.593768 \r\nL 305.275938 178.4417 \r\nL 305.585938 176.593768 \r\nL 305.740938 175.97779 \r\nL 305.895937 176.593768 \r\nL 306.050938 177.825722 \r\nL 306.205938 176.593768 \r\nL 306.515938 172.897904 \r\nL 306.670938 171.049972 \r\nL 306.825937 171.049972 \r\nL 306.980938 170.433994 \r\nL 307.135937 170.433994 \r\nL 307.290937 169.20204 \r\nL 307.445938 169.20204 \r\nL 307.600937 168.586062 \r\nL 307.910938 166.122153 \r\nL 308.065937 167.970085 \r\nL 308.530937 161.194334 \r\nL 308.685938 161.810312 \r\nL 308.840937 164.274221 \r\nL 309.150938 164.274221 \r\nL 309.305937 164.890198 \r\nL 309.460938 164.890198 \r\nL 309.615938 165.506176 \r\nL 309.770937 167.354108 \r\nL 309.925938 167.354108 \r\nL 310.235937 163.658244 \r\nL 310.390938 164.890198 \r\nL 310.700937 169.20204 \r\nL 310.855938 169.20204 \r\nL 311.165937 163.658244 \r\nL 311.320938 162.426289 \r\nL 311.940937 172.281926 \r\nL 312.095938 171.665949 \r\nL 312.405937 176.593768 \r\nL 312.715937 179.673654 \r\nL 312.870937 179.057677 \r\nL 313.025938 180.289632 \r\nL 313.180937 177.825722 \r\nL 313.335938 177.825722 \r\nL 313.490938 180.289632 \r\nL 313.645937 180.905609 \r\nL 313.800938 180.289632 \r\nL 314.110937 178.4417 \r\nL 314.265938 178.4417 \r\nL 314.575937 182.137564 \r\nL 314.730938 179.673654 \r\nL 314.885937 180.289632 \r\nL 315.040937 178.4417 \r\nL 315.195938 181.521586 \r\nL 315.505938 182.753541 \r\nL 315.660938 180.905609 \r\nL 315.815937 181.521586 \r\nL 315.970938 180.289632 \r\nL 316.125938 181.521586 \r\nL 316.280937 183.985496 \r\nL 316.590937 192.609178 \r\nL 317.055937 201.848839 \r\nL 317.365938 210.472521 \r\nL 317.675938 186.449405 \r\nL 318.295938 131.011445 \r\nL 318.915937 33.071048 \r\nL 319.070938 23.215411 \r\nL 319.225937 23.215411 \r\nL 319.380938 41.078754 \r\nL 320.155937 199.384929 \r\nL 320.310938 198.152975 \r\nL 320.775938 185.833428 \r\nL 321.085938 188.913314 \r\nL 321.395937 185.21745 \r\nL 321.705938 186.449405 \r\nL 322.015938 189.529292 \r\nL 322.170938 187.68136 \r\nL 322.325937 188.297337 \r\nL 322.635937 187.065382 \r\nL 322.790937 187.065382 \r\nL 322.945938 187.68136 \r\nL 323.100937 187.065382 \r\nL 323.255938 185.833428 \r\nL 323.410938 187.68136 \r\nL 323.565937 187.68136 \r\nL 323.720938 187.065382 \r\nL 323.875938 188.913314 \r\nL 324.030937 187.065382 \r\nL 324.495937 187.065382 \r\nL 324.650938 188.297337 \r\nL 324.805937 188.297337 \r\nL 324.960938 187.68136 \r\nL 325.115938 187.68136 \r\nL 325.270937 186.449405 \r\nL 325.425938 187.065382 \r\nL 325.580938 188.913314 \r\nL 325.890938 188.913314 \r\nL 326.045938 187.065382 \r\nL 326.355938 187.065382 \r\nL 326.510937 188.297337 \r\nL 326.665937 187.065382 \r\nL 326.820938 188.297337 \r\nL 327.130938 185.21745 \r\nL 327.285938 185.833428 \r\nL 327.595938 187.68136 \r\nL 327.750938 187.68136 \r\nL 327.905937 187.065382 \r\nL 328.060938 185.833428 \r\nL 328.215937 185.833428 \r\nL 328.370937 187.68136 \r\nL 328.835938 185.833428 \r\nL 329.145937 185.833428 \r\nL 329.300938 188.297337 \r\nL 329.455938 188.913314 \r\nL 329.610937 188.297337 \r\nL 329.765938 187.065382 \r\nL 329.920938 187.68136 \r\nL 330.075937 187.065382 \r\nL 330.230938 187.68136 \r\nL 330.385937 187.68136 \r\nL 330.540937 186.449405 \r\nL 330.850937 186.449405 \r\nL 331.005938 187.065382 \r\nL 331.160938 188.297337 \r\nL 331.315937 188.297337 \r\nL 331.470938 187.68136 \r\nL 331.625938 185.21745 \r\nL 332.090937 188.913314 \r\nL 332.245937 188.913314 \r\nL 332.400938 187.68136 \r\nL 332.710938 187.68136 \r\nL 332.865938 187.065382 \r\nL 333.175938 190.761246 \r\nL 333.330938 188.913314 \r\nL 333.485937 190.145269 \r\nL 333.640938 189.529292 \r\nL 333.795938 188.297337 \r\nL 333.950937 188.913314 \r\nL 334.260937 190.761246 \r\nL 334.570938 187.065382 \r\nL 334.880938 187.065382 \r\nL 335.035938 184.601473 \r\nL 335.190937 183.985496 \r\nL 335.345938 180.905609 \r\nL 335.500938 180.289632 \r\nL 335.655937 178.4417 \r\nL 335.810938 178.4417 \r\nL 335.965937 179.057677 \r\nL 336.275938 175.361813 \r\nL 336.430937 174.129858 \r\nL 336.895937 177.209745 \r\nL 337.050938 176.593768 \r\nL 337.205938 174.745836 \r\nL 337.515938 175.97779 \r\nL 337.670938 175.97779 \r\nL 337.825937 177.825722 \r\nL 338.135937 174.129858 \r\nL 338.755938 176.593768 \r\nL 338.910938 176.593768 \r\nL 339.220938 172.897904 \r\nL 339.375938 173.513881 \r\nL 339.685938 177.209745 \r\nL 339.995937 174.745836 \r\nL 340.150938 175.361813 \r\nL 340.305937 175.361813 \r\nL 340.460938 175.97779 \r\nL 340.615938 177.825722 \r\nL 340.770937 176.593768 \r\nL 340.925938 177.209745 \r\nL 341.080938 175.97779 \r\nL 341.545938 179.673654 \r\nL 341.855938 177.209745 \r\nL 342.475937 179.673654 \r\nL 342.785938 179.673654 \r\nL 342.940937 179.057677 \r\nL 343.095938 180.289632 \r\nL 343.250938 180.289632 \r\nL 343.560938 181.521586 \r\nL 343.870937 179.057677 \r\nL 344.335938 183.369518 \r\nL 344.490938 182.753541 \r\nL 344.645937 183.369518 \r\nL 344.800938 184.601473 \r\nL 344.955938 183.985496 \r\nL 345.110937 183.985496 \r\nL 345.265938 184.601473 \r\nL 345.420938 183.985496 \r\nL 345.575937 183.985496 \r\nL 345.885937 182.137564 \r\nL 346.195938 183.369518 \r\nL 346.660938 180.289632 \r\nL 347.125938 184.601473 \r\nL 347.280937 183.985496 \r\nL 347.435938 181.521586 \r\nL 347.590937 180.905609 \r\nL 348.055937 183.985496 \r\nL 348.520937 183.985496 \r\nL 348.675938 182.137564 \r\nL 348.830938 183.369518 \r\nL 348.985937 183.369518 \r\nL 349.295938 181.521586 \r\nL 349.450937 182.137564 \r\nL 349.605938 183.369518 \r\nL 349.915937 183.369518 \r\nL 350.070938 182.137564 \r\nL 350.225937 182.753541 \r\nL 350.380938 182.137564 \r\nL 350.690937 183.369518 \r\nL 350.845938 183.369518 \r\nL 351.155937 179.673654 \r\nL 351.310938 179.673654 \r\nL 351.775938 183.985496 \r\nL 352.240938 179.057677 \r\nL 352.550938 179.057677 \r\nL 352.705938 177.825722 \r\nL 353.015938 173.513881 \r\nL 353.170938 172.281926 \r\nL 353.325937 173.513881 \r\nL 353.480938 172.897904 \r\nL 353.635937 172.897904 \r\nL 354.100937 167.354108 \r\nL 354.410938 168.586062 \r\nL 354.565937 168.586062 \r\nL 354.720938 169.20204 \r\nL 354.875938 167.970085 \r\nL 355.030937 168.586062 \r\nL 355.185938 169.818017 \r\nL 355.340937 169.818017 \r\nL 355.495937 173.513881 \r\nL 355.650938 171.665949 \r\nL 355.960938 171.665949 \r\nL 356.115938 169.818017 \r\nL 356.270937 172.897904 \r\nL 356.580938 174.129858 \r\nL 356.735937 172.897904 \r\nL 357.045938 167.970085 \r\nL 357.200937 167.970085 \r\nL 357.510937 173.513881 \r\nL 358.440937 183.369518 \r\nL 358.595938 184.601473 \r\nL 358.750938 182.753541 \r\nL 359.215937 186.449405 \r\nL 359.525938 183.369518 \r\nL 360.145937 187.68136 \r\nL 360.300938 187.065382 \r\nL 360.610937 185.21745 \r\nL 360.765938 185.833428 \r\nL 361.075937 188.297337 \r\nL 361.540937 186.449405 \r\nL 361.695938 186.449405 \r\nL 362.625938 205.544703 \r\nL 362.935938 218.480227 \r\nL 363.090937 217.248272 \r\nL 363.710938 177.209745 \r\nL 364.020937 140.251105 \r\nL 364.485937 55.246232 \r\nL 364.640938 42.926686 \r\nL 364.795938 42.926686 \r\nL 364.950937 58.942096 \r\nL 365.570938 201.848839 \r\nL 365.725937 204.928725 \r\nL 366.190937 190.761246 \r\nL 366.345938 193.841133 \r\nL 366.810938 191.993201 \r\nL 367.120937 190.145269 \r\nL 367.275938 191.377224 \r\nL 367.430937 193.841133 \r\nL 367.585938 193.841133 \r\nL 367.740938 194.45711 \r\nL 367.895937 193.225156 \r\nL 368.050938 193.225156 \r\nL 368.205938 193.841133 \r\nL 368.515938 195.689065 \r\nL 368.670938 195.073088 \r\nL 368.825937 193.841133 \r\nL 368.980938 194.45711 \r\nL 369.135937 193.841133 \r\nL 369.290937 194.45711 \r\nL 369.445938 193.841133 \r\nL 369.910938 193.841133 \r\nL 370.065937 192.609178 \r\nL 370.375938 194.45711 \r\nL 370.530937 194.45711 \r\nL 370.685938 190.761246 \r\nL 370.840937 190.761246 \r\nL 370.995937 191.377224 \r\nL 371.150938 194.45711 \r\nL 371.305937 193.841133 \r\nL 371.460938 194.45711 \r\nL 371.770937 191.993201 \r\nL 372.235937 195.073088 \r\nL 372.390938 194.45711 \r\nL 372.545938 193.225156 \r\nL 372.700937 193.225156 \r\nL 373.010937 196.305042 \r\nL 373.165937 196.92102 \r\nL 373.475937 194.45711 \r\nL 373.630938 193.841133 \r\nL 373.785938 194.45711 \r\nL 373.940937 195.689065 \r\nL 374.405937 193.841133 \r\nL 374.560938 192.609178 \r\nL 374.715937 194.45711 \r\nL 374.870937 193.841133 \r\nL 375.025938 194.45711 \r\nL 375.180937 191.993201 \r\nL 375.335938 192.609178 \r\nL 375.490938 191.377224 \r\nL 375.955938 195.073088 \r\nL 376.110937 192.609178 \r\nL 376.265938 193.225156 \r\nL 376.420938 193.225156 \r\nL 376.575937 193.841133 \r\nL 376.730938 193.841133 \r\nL 376.885937 196.305042 \r\nL 377.040937 196.92102 \r\nL 377.350937 194.45711 \r\nL 377.505938 195.073088 \r\nL 377.970938 200.616884 \r\nL 378.125938 198.152975 \r\nL 378.280937 197.536997 \r\nL 378.435938 198.152975 \r\nL 378.590937 199.384929 \r\nL 378.745937 199.384929 \r\nL 378.900938 200.000907 \r\nL 379.055937 198.152975 \r\nL 379.210938 198.768952 \r\nL 379.365938 198.768952 \r\nL 379.520937 199.384929 \r\nL 379.675938 199.384929 \r\nL 379.985937 195.689065 \r\nL 380.140938 195.073088 \r\nL 380.295938 193.225156 \r\nL 380.450937 195.073088 \r\nL 380.915937 188.297337 \r\nL 381.070938 188.297337 \r\nL 381.225937 186.449405 \r\nL 381.380938 187.68136 \r\nL 381.535938 187.68136 \r\nL 381.690937 187.065382 \r\nL 381.845938 184.601473 \r\nL 382.000938 185.21745 \r\nL 382.155937 183.985496 \r\nL 382.310938 183.985496 \r\nL 382.465937 184.601473 \r\nL 382.775938 182.137564 \r\nL 382.930937 182.137564 \r\nL 383.240938 183.369518 \r\nL 383.395937 185.21745 \r\nL 383.705938 185.21745 \r\nL 383.860937 182.753541 \r\nL 384.015938 183.369518 \r\nL 384.170938 185.21745 \r\nL 384.325937 184.601473 \r\nL 384.480938 183.369518 \r\nL 384.635937 183.369518 \r\nL 384.790937 183.985496 \r\nL 384.945938 183.985496 \r\nL 385.100937 184.601473 \r\nL 385.565937 187.68136 \r\nL 385.875938 186.449405 \r\nL 386.030937 186.449405 \r\nL 386.185938 187.68136 \r\nL 386.650938 184.601473 \r\nL 386.805937 185.833428 \r\nL 386.805937 185.833428 \r\n\" style=\"fill:none;stroke:#1f77b4;stroke-linecap:square;stroke-width:1.5;\"/>\r\n   </g>\r\n   <g id=\"line2d_20\">\r\n    <defs>\r\n     <path d=\"M 0 3 \r\nC 0.795609 3 1.55874 2.683901 2.12132 2.12132 \r\nC 2.683901 1.55874 3 0.795609 3 0 \r\nC 3 -0.795609 2.683901 -1.55874 2.12132 -2.12132 \r\nC 1.55874 -2.683901 0.795609 -3 0 -3 \r\nC -0.795609 -3 -1.55874 -2.683901 -2.12132 -2.12132 \r\nC -2.683901 -1.55874 -3 -0.795609 -3 0 \r\nC -3 0.795609 -2.683901 1.55874 -2.12132 2.12132 \r\nC -1.55874 2.683901 -0.795609 3 0 3 \r\nz\r\n\" id=\"m9c3c743c57\" style=\"stroke:#008000;\"/>\r\n    </defs>\r\n    <g clip-path=\"url(#p72e0b8afd3)\">\r\n     <use style=\"fill:#008000;stroke:#008000;\" x=\"13.720938\" xlink:href=\"#m9c3c743c57\" y=\"38.614844\"/>\r\n     <use style=\"fill:#008000;stroke:#008000;\" x=\"58.050938\" xlink:href=\"#m9c3c743c57\" y=\"39.846799\"/>\r\n     <use style=\"fill:#008000;stroke:#008000;\" x=\"101.450937\" xlink:href=\"#m9c3c743c57\" y=\"21.983456\"/>\r\n     <use style=\"fill:#008000;stroke:#008000;\" x=\"144.385937\" xlink:href=\"#m9c3c743c57\" y=\"31.223116\"/>\r\n     <use style=\"fill:#008000;stroke:#008000;\" x=\"190.420938\" xlink:href=\"#m9c3c743c57\" y=\"42.926686\"/>\r\n     <use style=\"fill:#008000;stroke:#008000;\" x=\"219.560938\" xlink:href=\"#m9c3c743c57\" y=\"13.975751\"/>\r\n     <use style=\"fill:#008000;stroke:#008000;\" x=\"271.950937\" xlink:href=\"#m9c3c743c57\" y=\"30.607139\"/>\r\n     <use style=\"fill:#008000;stroke:#008000;\" x=\"319.070938\" xlink:href=\"#m9c3c743c57\" y=\"23.215411\"/>\r\n     <use style=\"fill:#008000;stroke:#008000;\" x=\"364.640938\" xlink:href=\"#m9c3c743c57\" y=\"42.926686\"/>\r\n     <use style=\"fill:#008000;stroke:#008000;\" x=\"407.885937\" xlink:href=\"#m9c3c743c57\" y=\"44.774618\"/>\r\n    </g>\r\n   </g>\r\n   <g id=\"line2d_21\">\r\n    <defs>\r\n     <path d=\"M 0 3 \r\nC 0.795609 3 1.55874 2.683901 2.12132 2.12132 \r\nC 2.683901 1.55874 3 0.795609 3 0 \r\nC 3 -0.795609 2.683901 -1.55874 2.12132 -2.12132 \r\nC 1.55874 -2.683901 0.795609 -3 0 -3 \r\nC -0.795609 -3 -1.55874 -2.683901 -2.12132 -2.12132 \r\nC -2.683901 -1.55874 -3 -0.795609 -3 0 \r\nC -3 0.795609 -2.683901 1.55874 -2.12132 2.12132 \r\nC -1.55874 2.683901 -0.795609 3 0 3 \r\nz\r\n\" id=\"m92f5bdce3d\" style=\"stroke:#ff0000;\"/>\r\n    </defs>\r\n    <g clip-path=\"url(#p72e0b8afd3)\">\r\n     <use style=\"fill:#ff0000;stroke:#ff0000;\" x=\"-1\" xlink:href=\"#m92f5bdce3d\" y=\"14.436022\"/>\r\n     <use style=\"fill:#ff0000;stroke:#ff0000;\" x=\"219.560938\" xlink:href=\"#m92f5bdce3d\" y=\"13.975751\"/>\r\n     <use style=\"fill:#ff0000;stroke:#ff0000;\" x=\"1489.630938\" xlink:href=\"#m92f5bdce3d\" y=\"17.055637\"/>\r\n     <use style=\"fill:#ff0000;stroke:#ff0000;\" x=\"5301.545937\" xlink:href=\"#m92f5bdce3d\" y=\"36.766912\"/>\r\n     <use style=\"fill:#ff0000;stroke:#ff0000;\" x=\"9719.975937\" xlink:href=\"#m92f5bdce3d\" y=\"21.983456\"/>\r\n     <use style=\"fill:#ff0000;stroke:#ff0000;\" x=\"16328.245937\" xlink:href=\"#m92f5bdce3d\" y=\"35.534958\"/>\r\n     <use style=\"fill:#ff0000;stroke:#ff0000;\" x=\"33201.080937\" xlink:href=\"#m92f5bdce3d\" y=\"27.527252\"/>\r\n     <use style=\"fill:#ff0000;stroke:#ff0000;\" x=\"35717.9365\" xlink:href=\"#m92f5bdce3d\" y=\"21.020699\"/>\r\n    </g>\r\n   </g>\r\n   <g id=\"patch_3\">\r\n    <path d=\"M 52.160938 224.64 \r\nL 52.160938 7.2 \r\n\" style=\"fill:none;stroke:#000000;stroke-linecap:square;stroke-linejoin:miter;stroke-width:0.8;\"/>\r\n   </g>\r\n   <g id=\"patch_4\">\r\n    <path d=\"M 386.960938 224.64 \r\nL 386.960938 7.2 \r\n\" style=\"fill:none;stroke:#000000;stroke-linecap:square;stroke-linejoin:miter;stroke-width:0.8;\"/>\r\n   </g>\r\n   <g id=\"patch_5\">\r\n    <path d=\"M 52.160938 224.64 \r\nL 386.960938 224.64 \r\n\" style=\"fill:none;stroke:#000000;stroke-linecap:square;stroke-linejoin:miter;stroke-width:0.8;\"/>\r\n   </g>\r\n   <g id=\"patch_6\">\r\n    <path d=\"M 52.160938 7.2 \r\nL 386.960938 7.2 \r\n\" style=\"fill:none;stroke:#000000;stroke-linecap:square;stroke-linejoin:miter;stroke-width:0.8;\"/>\r\n   </g>\r\n   <g id=\"legend_1\">\r\n    <g id=\"patch_7\">\r\n     <path d=\"M 407.352937 59.234375 \r\nL 486.868562 59.234375 \r\nQ 488.868562 59.234375 488.868562 57.234375 \r\nL 488.868562 14.2 \r\nQ 488.868562 12.2 486.868562 12.2 \r\nL 407.352937 12.2 \r\nQ 405.352937 12.2 405.352937 14.2 \r\nL 405.352937 57.234375 \r\nQ 405.352937 59.234375 407.352937 59.234375 \r\nz\r\n\" style=\"fill:#ffffff;opacity:0.8;stroke:#cccccc;stroke-linejoin:miter;\"/>\r\n    </g>\r\n    <g id=\"line2d_22\">\r\n     <path d=\"M 409.352937 20.298437 \r\nL 429.352937 20.298437 \r\n\" style=\"fill:none;stroke:#1f77b4;stroke-linecap:square;stroke-width:1.5;\"/>\r\n    </g>\r\n    <g id=\"line2d_23\"/>\r\n    <g id=\"text_21\">\r\n     <!-- ecg -->\r\n     <g transform=\"translate(437.352937 23.798437)scale(0.1 -0.1)\">\r\n      <defs>\r\n       <path d=\"M 48.78125 52.59375 \r\nL 48.78125 44.1875 \r\nQ 44.96875 46.296875 41.140625 47.34375 \r\nQ 37.3125 48.390625 33.40625 48.390625 \r\nQ 24.65625 48.390625 19.8125 42.84375 \r\nQ 14.984375 37.3125 14.984375 27.296875 \r\nQ 14.984375 17.28125 19.8125 11.734375 \r\nQ 24.65625 6.203125 33.40625 6.203125 \r\nQ 37.3125 6.203125 41.140625 7.25 \r\nQ 44.96875 8.296875 48.78125 10.40625 \r\nL 48.78125 2.09375 \r\nQ 45.015625 0.34375 40.984375 -0.53125 \r\nQ 36.96875 -1.421875 32.421875 -1.421875 \r\nQ 20.0625 -1.421875 12.78125 6.34375 \r\nQ 5.515625 14.109375 5.515625 27.296875 \r\nQ 5.515625 40.671875 12.859375 48.328125 \r\nQ 20.21875 56 33.015625 56 \r\nQ 37.15625 56 41.109375 55.140625 \r\nQ 45.0625 54.296875 48.78125 52.59375 \r\nz\r\n\" id=\"DejaVuSans-99\"/>\r\n      </defs>\r\n      <use xlink:href=\"#DejaVuSans-101\"/>\r\n      <use x=\"61.523438\" xlink:href=\"#DejaVuSans-99\"/>\r\n      <use x=\"116.503906\" xlink:href=\"#DejaVuSans-103\"/>\r\n     </g>\r\n    </g>\r\n    <g id=\"line2d_24\"/>\r\n    <g id=\"line2d_25\">\r\n     <g>\r\n      <use style=\"fill:#008000;stroke:#008000;\" x=\"419.352937\" xlink:href=\"#m9c3c743c57\" y=\"34.976562\"/>\r\n     </g>\r\n    </g>\r\n    <g id=\"text_22\">\r\n     <!-- normal -->\r\n     <g transform=\"translate(437.352937 38.476562)scale(0.1 -0.1)\">\r\n      <defs>\r\n       <path d=\"M 30.609375 48.390625 \r\nQ 23.390625 48.390625 19.1875 42.75 \r\nQ 14.984375 37.109375 14.984375 27.296875 \r\nQ 14.984375 17.484375 19.15625 11.84375 \r\nQ 23.34375 6.203125 30.609375 6.203125 \r\nQ 37.796875 6.203125 41.984375 11.859375 \r\nQ 46.1875 17.53125 46.1875 27.296875 \r\nQ 46.1875 37.015625 41.984375 42.703125 \r\nQ 37.796875 48.390625 30.609375 48.390625 \r\nz\r\nM 30.609375 56 \r\nQ 42.328125 56 49.015625 48.375 \r\nQ 55.71875 40.765625 55.71875 27.296875 \r\nQ 55.71875 13.875 49.015625 6.21875 \r\nQ 42.328125 -1.421875 30.609375 -1.421875 \r\nQ 18.84375 -1.421875 12.171875 6.21875 \r\nQ 5.515625 13.875 5.515625 27.296875 \r\nQ 5.515625 40.765625 12.171875 48.375 \r\nQ 18.84375 56 30.609375 56 \r\nz\r\n\" id=\"DejaVuSans-111\"/>\r\n       <path d=\"M 41.109375 46.296875 \r\nQ 39.59375 47.171875 37.8125 47.578125 \r\nQ 36.03125 48 33.890625 48 \r\nQ 26.265625 48 22.1875 43.046875 \r\nQ 18.109375 38.09375 18.109375 28.8125 \r\nL 18.109375 0 \r\nL 9.078125 0 \r\nL 9.078125 54.6875 \r\nL 18.109375 54.6875 \r\nL 18.109375 46.1875 \r\nQ 20.953125 51.171875 25.484375 53.578125 \r\nQ 30.03125 56 36.53125 56 \r\nQ 37.453125 56 38.578125 55.875 \r\nQ 39.703125 55.765625 41.0625 55.515625 \r\nz\r\n\" id=\"DejaVuSans-114\"/>\r\n      </defs>\r\n      <use xlink:href=\"#DejaVuSans-110\"/>\r\n      <use x=\"63.378906\" xlink:href=\"#DejaVuSans-111\"/>\r\n      <use x=\"124.560547\" xlink:href=\"#DejaVuSans-114\"/>\r\n      <use x=\"163.923828\" xlink:href=\"#DejaVuSans-109\"/>\r\n      <use x=\"261.335938\" xlink:href=\"#DejaVuSans-97\"/>\r\n      <use x=\"322.615234\" xlink:href=\"#DejaVuSans-108\"/>\r\n     </g>\r\n    </g>\r\n    <g id=\"line2d_26\"/>\r\n    <g id=\"line2d_27\">\r\n     <g>\r\n      <use style=\"fill:#ff0000;stroke:#ff0000;\" x=\"419.352937\" xlink:href=\"#m92f5bdce3d\" y=\"49.654687\"/>\r\n     </g>\r\n    </g>\r\n    <g id=\"text_23\">\r\n     <!-- abnormal -->\r\n     <g transform=\"translate(437.352937 53.154687)scale(0.1 -0.1)\">\r\n      <defs>\r\n       <path d=\"M 48.6875 27.296875 \r\nQ 48.6875 37.203125 44.609375 42.84375 \r\nQ 40.53125 48.484375 33.40625 48.484375 \r\nQ 26.265625 48.484375 22.1875 42.84375 \r\nQ 18.109375 37.203125 18.109375 27.296875 \r\nQ 18.109375 17.390625 22.1875 11.75 \r\nQ 26.265625 6.109375 33.40625 6.109375 \r\nQ 40.53125 6.109375 44.609375 11.75 \r\nQ 48.6875 17.390625 48.6875 27.296875 \r\nz\r\nM 18.109375 46.390625 \r\nQ 20.953125 51.265625 25.265625 53.625 \r\nQ 29.59375 56 35.59375 56 \r\nQ 45.5625 56 51.78125 48.09375 \r\nQ 58.015625 40.1875 58.015625 27.296875 \r\nQ 58.015625 14.40625 51.78125 6.484375 \r\nQ 45.5625 -1.421875 35.59375 -1.421875 \r\nQ 29.59375 -1.421875 25.265625 0.953125 \r\nQ 20.953125 3.328125 18.109375 8.203125 \r\nL 18.109375 0 \r\nL 9.078125 0 \r\nL 9.078125 75.984375 \r\nL 18.109375 75.984375 \r\nz\r\n\" id=\"DejaVuSans-98\"/>\r\n      </defs>\r\n      <use xlink:href=\"#DejaVuSans-97\"/>\r\n      <use x=\"61.279297\" xlink:href=\"#DejaVuSans-98\"/>\r\n      <use x=\"124.755859\" xlink:href=\"#DejaVuSans-110\"/>\r\n      <use x=\"188.134766\" xlink:href=\"#DejaVuSans-111\"/>\r\n      <use x=\"249.316406\" xlink:href=\"#DejaVuSans-114\"/>\r\n      <use x=\"288.679688\" xlink:href=\"#DejaVuSans-109\"/>\r\n      <use x=\"386.091797\" xlink:href=\"#DejaVuSans-97\"/>\r\n      <use x=\"447.371094\" xlink:href=\"#DejaVuSans-108\"/>\r\n     </g>\r\n    </g>\r\n   </g>\r\n  </g>\r\n </g>\r\n <defs>\r\n  <clipPath id=\"p72e0b8afd3\">\r\n   <rect height=\"217.44\" width=\"334.8\" x=\"52.160938\" y=\"7.2\"/>\r\n  </clipPath>\r\n </defs>\r\n</svg>\r\n",
      "image/png": "[encoded data removed]"
     },
     "metadata": {
      "needs_background": "light"
     }
    }
   ],
   "source": [
    "left = ab_index[1]-1080\n",
    "right = ab_index[1]+1080\n",
    "\n",
    "plt.plot(x[left:right],p_signal[left:right,0],'-',label='ecg',)\n",
    "plt.plot(x[atr_sample],p_signal[atr_sample,0],'go',label ='normal')\n",
    "plt.plot(x[ab_index],p_signal[ab_index,0],'ro',label='abnormal')\n",
    "\n",
    "plt.xlim(left,right)\n",
    "plt.ylim(p_signal[left:right].min()-0.05,p_signal[left:right,0].max()+0.05)\n",
    "plt.xlabel('time index')\n",
    "plt.ylabel('ECG signal')\n",
    "plt.legend(bbox_to_anchor = (1.04,1), loc = 'upper left')\n",
    "plt.show()"
   ]
  },
  {
   "cell_type": "code",
   "execution_count": 17,
   "metadata": {},
   "outputs": [],
   "source": [
    "def make_dataset(pts, num_sec, fs, abnormal):\n",
    "    # function for making dataset ignoring non-beats\n",
    "    # input:\n",
    "    # pts - list of patients\n",
    "    # num_sec = number of seconds to include before and after the beat\n",
    "    # fs = frequency\n",
    "    # output: \n",
    "    #   X_all = signal (nbeats , num_sec * fs columns)\n",
    "    #   Y_all = binary is abnormal (nbeats, 1)\n",
    "    #   sym_all = beat annotation symbol (nbeats,1)\n",
    "    \n",
    "    # initialize numpy arrays\n",
    "    num_cols = 2*num_sec * fs\n",
    "    X_all = np.zeros((1,num_cols))\n",
    "    Y_all = np.zeros((1,1))\n",
    "    sym_all = []\n",
    "    \n",
    "    # list to keep track of number of beats across patients\n",
    "    max_rows = []\n",
    "    for pt in pts:\n",
    "        file = data_path + pt\n",
    "        \n",
    "        p_signal, atr_sym, atr_sample = load_ecg(file)\n",
    "        \n",
    "        # grab the first signal\n",
    "        p_signal = p_signal[:,0]\n",
    "        \n",
    "        # make df to exclude the nonbeats\n",
    "        df_ann = pd.DataFrame({'atr_sym':atr_sym,\n",
    "                              'atr_sample':atr_sample})\n",
    "        df_ann = df_ann.loc[df_ann.atr_sym.isin(abnormal + ['N'])]\n",
    "        \n",
    "        X,Y,sym = build_XY(p_signal,df_ann, num_cols, abnormal)\n",
    "        sym_all = sym_all+sym\n",
    "        max_rows.append(X.shape[0])\n",
    "        X_all = np.append(X_all,X,axis = 0)\n",
    "        Y_all = np.append(Y_all,Y,axis = 0)\n",
    "    # drop the first zero row\n",
    "    X_all = X_all[1:,:]\n",
    "    Y_all = Y_all[1:,:]\n",
    "     # check sizes make sense\n",
    "    assert np.sum(max_rows) == X_all.shape[0], 'number of X, max_rows rows messed up'\n",
    "    assert Y_all.shape[0] == X_all.shape[0], 'number of X, Y rows messed up'\n",
    "    assert Y_all.shape[0] == len(sym_all), 'number of Y, sym rows messed up'\n",
    "\n",
    "    return X_all, Y_all, sym_all\n",
    "def build_XY(p_signal, df_ann, num_cols, abnormal):\n",
    "    # this function builds the X,Y matrices for each beat\n",
    "    # it also returns the original symbols for Y\n",
    "    \n",
    "    num_rows = len(df_ann)\n",
    "\n",
    "    X = np.zeros((num_rows, num_cols))\n",
    "    Y = np.zeros((num_rows,1))\n",
    "    sym = []\n",
    "    \n",
    "    # keep track of rows\n",
    "    max_row = 0\n",
    "\n",
    "    for atr_sample, atr_sym in zip(df_ann.atr_sample.values,df_ann.atr_sym.values):\n",
    "\n",
    "        left = max([0,(atr_sample - num_sec*fs) ])\n",
    "        right = min([len(p_signal),(atr_sample + num_sec*fs) ])\n",
    "        x = p_signal[left: right]\n",
    "        if len(x) == num_cols:\n",
    "            X[max_row,:] = x\n",
    "            Y[max_row,:] = int(atr_sym in abnormal)\n",
    "            sym.append(atr_sym)\n",
    "            max_row += 1\n",
    "    X = X[:max_row,:]\n",
    "    Y = Y[:max_row,:]\n",
    "    return X,Y,sym"
   ]
  },
  {
   "cell_type": "code",
   "execution_count": 18,
   "metadata": {},
   "outputs": [],
   "source": [
    "num_sec = 3\n",
    "fs = 360"
   ]
  },
  {
   "cell_type": "code",
   "execution_count": 19,
   "metadata": {},
   "outputs": [
    {
     "output_type": "stream",
     "name": "stdout",
     "text": [
      "36 12\n"
     ]
    }
   ],
   "source": [
    "import random\n",
    "random.seed( 42 )\n",
    "pts_train = random.sample(pts, 36)\n",
    "pts_valid = [pt for pt in pts if pt not in pts_train]\n",
    "print(len(pts_train), len(pts_valid))"
   ]
  },
  {
   "cell_type": "code",
   "execution_count": 20,
   "metadata": {},
   "outputs": [
    {
     "output_type": "stream",
     "name": "stdout",
     "text": [
      "(80614, 2160) (80614, 1) 80614\n(28485, 2160) (28485, 1) 28485\n"
     ]
    }
   ],
   "source": [
    "X_train, y_train, sym_train = make_dataset(pts_train, num_sec, fs, abnormal)\n",
    "X_valid, y_valid, sym_valid = make_dataset(pts_valid, num_sec, fs, abnormal)\n",
    "print(X_train.shape, y_train.shape, len(sym_train))\n",
    "print(X_valid.shape, y_valid.shape, len(sym_valid))"
   ]
  },
  {
   "cell_type": "code",
   "execution_count": 23,
   "metadata": {},
   "outputs": [],
   "source": [
    "from keras.models import Sequential\n",
    "from keras.layers import Dense, Flatten, Dropout\n",
    "from tensorflow.python.keras.utils.np_utils import to_categorical"
   ]
  },
  {
   "cell_type": "code",
   "execution_count": 24,
   "metadata": {},
   "outputs": [
    {
     "output_type": "stream",
     "name": "stdout",
     "text": [
      "Epoch 1/5\n",
      "2520/2520 [==============================] - 22s 3ms/step - loss: 0.3113 - accuracy: 0.8784\n",
      "Epoch 2/5\n",
      "2520/2520 [==============================] - 4s 1ms/step - loss: 0.1479 - accuracy: 0.9552\n",
      "Epoch 3/5\n",
      "2520/2520 [==============================] - 3s 1ms/step - loss: 0.1268 - accuracy: 0.9630\n",
      "Epoch 4/5\n",
      "2520/2520 [==============================] - 3s 1ms/step - loss: 0.1169 - accuracy: 0.9663\n",
      "Epoch 5/5\n",
      "2520/2520 [==============================] - 3s 1ms/step - loss: 0.1111 - accuracy: 0.9677\n"
     ]
    },
    {
     "output_type": "execute_result",
     "data": {
      "text/plain": [
       "<keras.callbacks.History at 0x20c8f282190>"
      ]
     },
     "metadata": {},
     "execution_count": 24
    }
   ],
   "source": [
    "model = Sequential()\n",
    "model.add(Dense(32, activation = 'relu', input_dim = X_train.shape[1]))\n",
    "model.add(Dropout(rate = 0.25))\n",
    "model.add(Dense(1, activation = 'sigmoid'))\n",
    "\n",
    "# compile the model - use categorical crossentropy, and the adam optimizer\n",
    "model.compile(\n",
    "                loss = 'binary_crossentropy',\n",
    "                optimizer = 'adam',\n",
    "                metrics = ['accuracy'])\n",
    "\n",
    "model.fit(X_train, y_train, batch_size = 32, epochs= 5, verbose = 1)"
   ]
  },
  {
   "cell_type": "code",
   "execution_count": 26,
   "metadata": {},
   "outputs": [
    {
     "output_type": "stream",
     "name": "stdout",
     "text": [
      "2520/2520 [==============================] - 5s 2ms/step\n",
      "891/891 [==============================] - 1s 821us/step\n"
     ]
    }
   ],
   "source": [
    "y_train_preds_dense = model.predict(X_train,verbose = 1)\n",
    "y_valid_preds_dense = model.predict(X_valid,verbose = 1)"
   ]
  },
  {
   "cell_type": "code",
   "execution_count": 30,
   "metadata": {},
   "outputs": [
    {
     "output_type": "execute_result",
     "data": {
      "text/plain": [
       "0.29906715955045027"
      ]
     },
     "metadata": {},
     "execution_count": 30
    }
   ],
   "source": [
    "thresh = (sum(y_train)/len(y_train))[0]\n",
    "thresh"
   ]
  },
  {
   "cell_type": "code",
   "execution_count": 38,
   "metadata": {},
   "outputs": [],
   "source": [
    "from sklearn.metrics import roc_auc_score, accuracy_score, precision_score, recall_score, confusion_matrix\n",
    "def calc_prevalence(y_actual):\n",
    "    return (sum(y_actual)/len(y_actual))\n",
    "def calc_specificity(y_actual, y_pred, thresh):\n",
    "    # calculates specificity\n",
    "    return sum((y_pred < thresh) & (y_actual == 0)) /sum(y_actual ==0)\n",
    "def print_report(y_actual, y_pred, thresh):\n",
    "    \n",
    "    auc = roc_auc_score(y_actual, y_pred)\n",
    "    accuracy = accuracy_score(y_actual, (y_pred > thresh))\n",
    "    recall = recall_score(y_actual, (y_pred > thresh))\n",
    "    precision = precision_score(y_actual, (y_pred > thresh))\n",
    "    specificity = calc_specificity(y_actual, y_pred, thresh)\n",
    "    print('AUC:%.3f'%auc)\n",
    "    print('accuracy:%.3f'%accuracy)\n",
    "    print('recall:%.3f'%recall)\n",
    "    print('precision:%.3f'%precision)\n",
    "    print('specificity:%.3f'%specificity)\n",
    "    print('prevalence:%.3f'%calc_prevalence(y_actual))\n",
    "    print(' ')\n",
    "    return auc, accuracy, recall, precision, specificity"
   ]
  },
  {
   "cell_type": "code",
   "execution_count": 43,
   "metadata": {},
   "outputs": [
    {
     "output_type": "stream",
     "name": "stdout",
     "text": [
      "Train\n",
      "AUC:0.993\n",
      "accuracy:0.977\n",
      "recall:0.951\n",
      "precision:0.973\n",
      "specificity:0.989\n",
      "prevalence:0.299\n",
      " \n",
      "Valid\n",
      "AUC:0.849\n",
      "accuracy:0.746\n",
      "recall:0.354\n",
      "precision:0.850\n",
      "specificity:0.965\n",
      "prevalence:0.358\n",
      " \n"
     ]
    }
   ],
   "source": [
    "\n",
    "print('Train');\n",
    "print_report(y_train, y_train_preds_dense, thresh)\n",
    "print('Valid');\n",
    "print_report(y_valid, y_valid_preds_dense, thresh);\n"
   ]
  },
  {
   "cell_type": "code",
   "execution_count": 33,
   "metadata": {},
   "outputs": [
    {
     "output_type": "stream",
     "name": "stdout",
     "text": [
      "(80614, 2160, 1)\n(28485, 2160, 1)\n"
     ]
    }
   ],
   "source": [
    "# CNN- Classification using \n",
    "\n",
    "# reshape input to be [samples, time steps, features = 1]\n",
    "X_train_cnn = np.reshape(X_train, (X_train.shape[0], X_train.shape[1], 1))\n",
    "X_valid_cnn = np.reshape(X_valid, (X_valid.shape[0], X_valid.shape[1], 1))\n",
    "\n",
    "print(X_train_cnn.shape)\n",
    "print(X_valid_cnn.shape)"
   ]
  },
  {
   "cell_type": "code",
   "execution_count": 34,
   "metadata": {},
   "outputs": [],
   "source": [
    "from keras.layers import Conv1D"
   ]
  },
  {
   "cell_type": "code",
   "execution_count": 35,
   "metadata": {},
   "outputs": [],
   "source": [
    "model = Sequential()\n",
    "model.add(Conv1D(filters = 128, kernel_size = 5, activation = 'relu', input_shape = (2160,1)))\n",
    "model.add(Dropout(rate = 0.25))\n",
    "model.add(Flatten())\n",
    "model.add(Dense(1, activation = 'sigmoid'))\n",
    "\n",
    "# compile the model - use categorical crossentropy, and the adam optimizer\n",
    "model.compile(\n",
    "                loss = 'binary_crossentropy',\n",
    "                optimizer = 'adam',\n",
    "                metrics = ['accuracy'])"
   ]
  },
  {
   "cell_type": "code",
   "execution_count": 36,
   "metadata": {},
   "outputs": [
    {
     "output_type": "stream",
     "name": "stdout",
     "text": [
      "Epoch 1/3\n",
      "2520/2520 [==============================] - 688s 271ms/step - loss: 0.2716 - accuracy: 0.9001\n",
      "Epoch 2/3\n",
      "2520/2520 [==============================] - 656s 260ms/step - loss: 0.1237 - accuracy: 0.9635\n",
      "Epoch 3/3\n",
      "2520/2520 [==============================] - 630s 250ms/step - loss: 0.0917 - accuracy: 0.9716\n"
     ]
    },
    {
     "output_type": "execute_result",
     "data": {
      "text/plain": [
       "<keras.callbacks.History at 0x20c8f217160>"
      ]
     },
     "metadata": {},
     "execution_count": 36
    }
   ],
   "source": [
    "model.fit(X_train_cnn, y_train, batch_size = 32, epochs= 3, verbose = 1)"
   ]
  },
  {
   "cell_type": "code",
   "execution_count": 51,
   "metadata": {},
   "outputs": [
    {
     "output_type": "stream",
     "name": "stdout",
     "text": [
      "2520/2520 [==============================] - 105s 41ms/step\n",
      "891/891 [==============================] - 38s 42ms/step\n"
     ]
    }
   ],
   "source": [
    "y_train_preds_cnn = model.predict(X_train_cnn,verbose = 1)\n",
    "y_valid_preds_cnn = model.predict(X_valid_cnn,verbose = 1)"
   ]
  },
  {
   "cell_type": "code",
   "execution_count": 52,
   "metadata": {},
   "outputs": [
    {
     "output_type": "stream",
     "name": "stdout",
     "text": [
      "Train\n",
      "AUC:0.994\n",
      "accuracy:0.963\n",
      "recall:0.976\n",
      "precision:0.906\n",
      "specificity:0.957\n",
      "prevalence:0.299\n",
      " \n",
      "Valid\n",
      "AUC:0.898\n",
      "accuracy:0.803\n",
      "recall:0.854\n",
      "precision:0.679\n",
      "specificity:0.775\n",
      "prevalence:0.358\n",
      " \n"
     ]
    }
   ],
   "source": [
    "print('Train');\n",
    "print_report(y_train, y_train_preds_cnn, thresh)\n",
    "print('Valid');\n",
    "print_report(y_valid, y_valid_preds_cnn, thresh);"
   ]
  },
  {
   "cell_type": "code",
   "execution_count": null,
   "metadata": {},
   "outputs": [],
   "source": []
  }
 ]
}